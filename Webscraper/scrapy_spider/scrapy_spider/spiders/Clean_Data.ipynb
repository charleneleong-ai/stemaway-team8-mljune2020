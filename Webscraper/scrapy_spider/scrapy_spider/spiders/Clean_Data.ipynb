{
 "cells": [
  {
   "cell_type": "code",
   "execution_count": 1,
   "metadata": {},
   "outputs": [],
   "source": [
    "import pandas as pd"
   ]
  },
  {
   "cell_type": "code",
   "execution_count": 2,
   "metadata": {},
   "outputs": [],
   "source": [
    "data = pd.read_csv('data2.csv')"
   ]
  },
  {
   "cell_type": "code",
   "execution_count": 3,
   "metadata": {},
   "outputs": [
    {
     "data": {
      "text/html": [
       "<div>\n",
       "<style scoped>\n",
       "    .dataframe tbody tr th:only-of-type {\n",
       "        vertical-align: middle;\n",
       "    }\n",
       "\n",
       "    .dataframe tbody tr th {\n",
       "        vertical-align: top;\n",
       "    }\n",
       "\n",
       "    .dataframe thead th {\n",
       "        text-align: right;\n",
       "    }\n",
       "</style>\n",
       "<table border=\"1\" class=\"dataframe\">\n",
       "  <thead>\n",
       "    <tr style=\"text-align: right;\">\n",
       "      <th></th>\n",
       "      <th>post_id</th>\n",
       "      <th>user_id</th>\n",
       "      <th>reply_to_post_num</th>\n",
       "      <th>topic_id</th>\n",
       "      <th>post_num</th>\n",
       "      <th>reply_count</th>\n",
       "      <th>num_reads</th>\n",
       "    </tr>\n",
       "  </thead>\n",
       "  <tbody>\n",
       "    <tr>\n",
       "      <th>count</th>\n",
       "      <td>36397.000000</td>\n",
       "      <td>36397.000000</td>\n",
       "      <td>17237.000000</td>\n",
       "      <td>36397.000000</td>\n",
       "      <td>36397.000000</td>\n",
       "      <td>36397.000000</td>\n",
       "      <td>36397.000000</td>\n",
       "    </tr>\n",
       "    <tr>\n",
       "      <th>mean</th>\n",
       "      <td>37527.276644</td>\n",
       "      <td>4878.901888</td>\n",
       "      <td>5.928352</td>\n",
       "      <td>13509.713548</td>\n",
       "      <td>5.863230</td>\n",
       "      <td>0.482018</td>\n",
       "      <td>103.483529</td>\n",
       "    </tr>\n",
       "    <tr>\n",
       "      <th>std</th>\n",
       "      <td>21861.157010</td>\n",
       "      <td>5865.412457</td>\n",
       "      <td>4.547935</td>\n",
       "      <td>7979.240692</td>\n",
       "      <td>4.678113</td>\n",
       "      <td>0.630303</td>\n",
       "      <td>83.410626</td>\n",
       "    </tr>\n",
       "    <tr>\n",
       "      <th>min</th>\n",
       "      <td>48.000000</td>\n",
       "      <td>2.000000</td>\n",
       "      <td>1.000000</td>\n",
       "      <td>33.000000</td>\n",
       "      <td>1.000000</td>\n",
       "      <td>0.000000</td>\n",
       "      <td>12.000000</td>\n",
       "    </tr>\n",
       "    <tr>\n",
       "      <th>25%</th>\n",
       "      <td>18161.000000</td>\n",
       "      <td>9.000000</td>\n",
       "      <td>2.000000</td>\n",
       "      <td>5836.000000</td>\n",
       "      <td>2.000000</td>\n",
       "      <td>0.000000</td>\n",
       "      <td>57.000000</td>\n",
       "    </tr>\n",
       "    <tr>\n",
       "      <th>50%</th>\n",
       "      <td>37798.000000</td>\n",
       "      <td>1686.000000</td>\n",
       "      <td>5.000000</td>\n",
       "      <td>14034.000000</td>\n",
       "      <td>4.000000</td>\n",
       "      <td>0.000000</td>\n",
       "      <td>82.000000</td>\n",
       "    </tr>\n",
       "    <tr>\n",
       "      <th>75%</th>\n",
       "      <td>56512.000000</td>\n",
       "      <td>10538.000000</td>\n",
       "      <td>8.000000</td>\n",
       "      <td>20411.000000</td>\n",
       "      <td>8.000000</td>\n",
       "      <td>1.000000</td>\n",
       "      <td>121.000000</td>\n",
       "    </tr>\n",
       "    <tr>\n",
       "      <th>max</th>\n",
       "      <td>74781.000000</td>\n",
       "      <td>17836.000000</td>\n",
       "      <td>26.000000</td>\n",
       "      <td>26766.000000</td>\n",
       "      <td>28.000000</td>\n",
       "      <td>5.000000</td>\n",
       "      <td>1470.000000</td>\n",
       "    </tr>\n",
       "  </tbody>\n",
       "</table>\n",
       "</div>"
      ],
      "text/plain": [
       "            post_id       user_id  reply_to_post_num      topic_id  \\\n",
       "count  36397.000000  36397.000000       17237.000000  36397.000000   \n",
       "mean   37527.276644   4878.901888           5.928352  13509.713548   \n",
       "std    21861.157010   5865.412457           4.547935   7979.240692   \n",
       "min       48.000000      2.000000           1.000000     33.000000   \n",
       "25%    18161.000000      9.000000           2.000000   5836.000000   \n",
       "50%    37798.000000   1686.000000           5.000000  14034.000000   \n",
       "75%    56512.000000  10538.000000           8.000000  20411.000000   \n",
       "max    74781.000000  17836.000000          26.000000  26766.000000   \n",
       "\n",
       "           post_num   reply_count     num_reads  \n",
       "count  36397.000000  36397.000000  36397.000000  \n",
       "mean       5.863230      0.482018    103.483529  \n",
       "std        4.678113      0.630303     83.410626  \n",
       "min        1.000000      0.000000     12.000000  \n",
       "25%        2.000000      0.000000     57.000000  \n",
       "50%        4.000000      0.000000     82.000000  \n",
       "75%        8.000000      1.000000    121.000000  \n",
       "max       28.000000      5.000000   1470.000000  "
      ]
     },
     "execution_count": 3,
     "metadata": {},
     "output_type": "execute_result"
    }
   ],
   "source": [
    "data.describe()"
   ]
  },
  {
   "cell_type": "code",
   "execution_count": 4,
   "metadata": {},
   "outputs": [
    {
     "data": {
      "text/plain": [
       "(36397, 12)"
      ]
     },
     "execution_count": 4,
     "metadata": {},
     "output_type": "execute_result"
    }
   ],
   "source": [
    "data.shape"
   ]
  },
  {
   "cell_type": "code",
   "execution_count": 5,
   "metadata": {},
   "outputs": [],
   "source": [
    "data['forum_name'] = 'airline'"
   ]
  },
  {
   "cell_type": "code",
   "execution_count": 6,
   "metadata": {},
   "outputs": [
    {
     "data": {
      "text/html": [
       "<div>\n",
       "<style scoped>\n",
       "    .dataframe tbody tr th:only-of-type {\n",
       "        vertical-align: middle;\n",
       "    }\n",
       "\n",
       "    .dataframe tbody tr th {\n",
       "        vertical-align: top;\n",
       "    }\n",
       "\n",
       "    .dataframe thead th {\n",
       "        text-align: right;\n",
       "    }\n",
       "</style>\n",
       "<table border=\"1\" class=\"dataframe\">\n",
       "  <thead>\n",
       "    <tr style=\"text-align: right;\">\n",
       "      <th></th>\n",
       "      <th>post_text</th>\n",
       "      <th>post_id</th>\n",
       "      <th>user_id</th>\n",
       "      <th>username</th>\n",
       "      <th>reply_to_post_num</th>\n",
       "      <th>topic_id</th>\n",
       "      <th>post_num</th>\n",
       "      <th>reply_count</th>\n",
       "      <th>created at</th>\n",
       "      <th>updated_at</th>\n",
       "      <th>num_reads</th>\n",
       "      <th>topic_slug</th>\n",
       "      <th>forum_name</th>\n",
       "    </tr>\n",
       "  </thead>\n",
       "  <tbody>\n",
       "    <tr>\n",
       "      <th>0</th>\n",
       "      <td>&lt;p&gt;Hey all - April credited 96 trips (~ 84 hou...</td>\n",
       "      <td>74622</td>\n",
       "      <td>2954</td>\n",
       "      <td>JLascomb</td>\n",
       "      <td>NaN</td>\n",
       "      <td>26739</td>\n",
       "      <td>1</td>\n",
       "      <td>0</td>\n",
       "      <td>2020-05-29T23:32:09.974Z</td>\n",
       "      <td>2020-05-29T23:32:09.974Z</td>\n",
       "      <td>77</td>\n",
       "      <td>southwest-may-2020-schedule</td>\n",
       "      <td>airline</td>\n",
       "    </tr>\n",
       "    <tr>\n",
       "      <th>1</th>\n",
       "      <td>&lt;p&gt;It’s great to see a rebound, even if it’s s...</td>\n",
       "      <td>74769</td>\n",
       "      <td>17519</td>\n",
       "      <td>Seuk</td>\n",
       "      <td>NaN</td>\n",
       "      <td>26739</td>\n",
       "      <td>2</td>\n",
       "      <td>1</td>\n",
       "      <td>2020-06-03T13:50:24.022Z</td>\n",
       "      <td>2020-06-03T13:50:56.027Z</td>\n",
       "      <td>36</td>\n",
       "      <td>southwest-may-2020-schedule</td>\n",
       "      <td>airline</td>\n",
       "    </tr>\n",
       "    <tr>\n",
       "      <th>2</th>\n",
       "      <td>&lt;p&gt;This articles takes a look at some of those...</td>\n",
       "      <td>74773</td>\n",
       "      <td>2954</td>\n",
       "      <td>JLascomb</td>\n",
       "      <td>2.0</td>\n",
       "      <td>26739</td>\n",
       "      <td>3</td>\n",
       "      <td>1</td>\n",
       "      <td>2020-06-03T16:30:43.643Z</td>\n",
       "      <td>2020-06-03T16:30:43.643Z</td>\n",
       "      <td>33</td>\n",
       "      <td>southwest-may-2020-schedule</td>\n",
       "      <td>airline</td>\n",
       "    </tr>\n",
       "    <tr>\n",
       "      <th>3</th>\n",
       "      <td>&lt;p&gt;Thanks for your reply and the link. It cert...</td>\n",
       "      <td>74781</td>\n",
       "      <td>17519</td>\n",
       "      <td>Seuk</td>\n",
       "      <td>3.0</td>\n",
       "      <td>26739</td>\n",
       "      <td>4</td>\n",
       "      <td>0</td>\n",
       "      <td>2020-06-03T20:16:33.051Z</td>\n",
       "      <td>2020-06-03T20:16:33.051Z</td>\n",
       "      <td>26</td>\n",
       "      <td>southwest-may-2020-schedule</td>\n",
       "      <td>airline</td>\n",
       "    </tr>\n",
       "    <tr>\n",
       "      <th>4</th>\n",
       "      <td>&lt;p&gt;Hi everyone! I have my Introductory Flight ...</td>\n",
       "      <td>70873</td>\n",
       "      <td>17226</td>\n",
       "      <td>amandabearden1</td>\n",
       "      <td>NaN</td>\n",
       "      <td>25527</td>\n",
       "      <td>1</td>\n",
       "      <td>0</td>\n",
       "      <td>2020-02-27T17:29:54.485Z</td>\n",
       "      <td>2020-02-27T17:29:54.485Z</td>\n",
       "      <td>84</td>\n",
       "      <td>starting-lawrenceville-location-june-2020</td>\n",
       "      <td>airline</td>\n",
       "    </tr>\n",
       "  </tbody>\n",
       "</table>\n",
       "</div>"
      ],
      "text/plain": [
       "                                           post_text  post_id  user_id  \\\n",
       "0  <p>Hey all - April credited 96 trips (~ 84 hou...    74622     2954   \n",
       "1  <p>It’s great to see a rebound, even if it’s s...    74769    17519   \n",
       "2  <p>This articles takes a look at some of those...    74773     2954   \n",
       "3  <p>Thanks for your reply and the link. It cert...    74781    17519   \n",
       "4  <p>Hi everyone! I have my Introductory Flight ...    70873    17226   \n",
       "\n",
       "         username  reply_to_post_num  topic_id  post_num  reply_count  \\\n",
       "0        JLascomb                NaN     26739         1            0   \n",
       "1            Seuk                NaN     26739         2            1   \n",
       "2        JLascomb                2.0     26739         3            1   \n",
       "3            Seuk                3.0     26739         4            0   \n",
       "4  amandabearden1                NaN     25527         1            0   \n",
       "\n",
       "                 created at                updated_at  num_reads  \\\n",
       "0  2020-05-29T23:32:09.974Z  2020-05-29T23:32:09.974Z         77   \n",
       "1  2020-06-03T13:50:24.022Z  2020-06-03T13:50:56.027Z         36   \n",
       "2  2020-06-03T16:30:43.643Z  2020-06-03T16:30:43.643Z         33   \n",
       "3  2020-06-03T20:16:33.051Z  2020-06-03T20:16:33.051Z         26   \n",
       "4  2020-02-27T17:29:54.485Z  2020-02-27T17:29:54.485Z         84   \n",
       "\n",
       "                                  topic_slug forum_name  \n",
       "0                southwest-may-2020-schedule    airline  \n",
       "1                southwest-may-2020-schedule    airline  \n",
       "2                southwest-may-2020-schedule    airline  \n",
       "3                southwest-may-2020-schedule    airline  \n",
       "4  starting-lawrenceville-location-june-2020    airline  "
      ]
     },
     "execution_count": 6,
     "metadata": {},
     "output_type": "execute_result"
    }
   ],
   "source": [
    "data.head()"
   ]
  },
  {
   "cell_type": "code",
   "execution_count": 7,
   "metadata": {},
   "outputs": [
    {
     "data": {
      "text/plain": [
       "post_text             object\n",
       "post_id                int64\n",
       "user_id                int64\n",
       "username              object\n",
       "reply_to_post_num    float64\n",
       "topic_id               int64\n",
       "post_num               int64\n",
       "reply_count            int64\n",
       "created at            object\n",
       "updated_at            object\n",
       "num_reads              int64\n",
       "topic_slug            object\n",
       "forum_name            object\n",
       "dtype: object"
      ]
     },
     "execution_count": 7,
     "metadata": {},
     "output_type": "execute_result"
    }
   ],
   "source": [
    "data.dtypes"
   ]
  },
  {
   "cell_type": "code",
   "execution_count": 8,
   "metadata": {},
   "outputs": [
    {
     "data": {
      "text/plain": [
       "'<p>Hey all - April credited 96 trips (~ 84 hours) of pay with 21 days off. Definitely much improved on loads this month, seeing quite a few full to the new limited capacity (~67%). It was rare to see less than 40 people per flight by the end of the month and noticed a LOT more people in the airport terminals. Hoping to see this trend continue!</p>\\n<ol>\\n<li>MCO-HOU (DH)</li>\\n<li>HOU-MAF-LAS-PHX-MCO (1st leg DH)</li>\\n<li>OFF</li>\\n<li>OFF</li>\\n<li>OFF</li>\\n<li>OFF</li>\\n<li>OFF</li>\\n<li>OFF</li>\\n<li>OFF</li>\\n<li>OFF</li>\\n<li>OFF</li>\\n<li>OFF</li>\\n<li>OFF</li>\\n<li>MCO-DEN-STL</li>\\n<li>STL-BWI-ISP-BWI-JAX</li>\\n<li>JAX-HOU-ATL-GSP</li>\\n<li>GSP-ATL-MDW-MCO</li>\\n<li>OFF</li>\\n<li>OFF</li>\\n<li>OFF</li>\\n<li>OFF</li>\\n<li>OFF</li>\\n<li>OFF</li>\\n<li>OFF</li>\\n<li>MCO-DEN-STL</li>\\n<li>STL-BWI-ISP-BWI-JAX</li>\\n<li>JAX-HOU-ATL-GSP</li>\\n<li>GSP-ATL-MDW-MCO</li>\\n<li>OFF</li>\\n<li>OFF</li>\\n<li>OFF</li>\\n</ol>'"
      ]
     },
     "execution_count": 8,
     "metadata": {},
     "output_type": "execute_result"
    }
   ],
   "source": [
    "data['post_text'][0]"
   ]
  },
  {
   "cell_type": "code",
   "execution_count": 9,
   "metadata": {},
   "outputs": [],
   "source": [
    "data['post_text'] = data['post_text'].str.replace('<[^<]+?>', '')\n",
    "data['post_text'] = data['post_text'].str.replace('\\n', ' ')"
   ]
  },
  {
   "cell_type": "code",
   "execution_count": 10,
   "metadata": {},
   "outputs": [
    {
     "data": {
      "text/plain": [
       "'Hey all - April credited 96 trips (~ 84 hours) of pay with 21 days off. Definitely much improved on loads this month, seeing quite a few full to the new limited capacity (~67%). It was rare to see less than 40 people per flight by the end of the month and noticed a LOT more people in the airport terminals. Hoping to see this trend continue!  MCO-HOU (DH) HOU-MAF-LAS-PHX-MCO (1st leg DH) OFF OFF OFF OFF OFF OFF OFF OFF OFF OFF OFF MCO-DEN-STL STL-BWI-ISP-BWI-JAX JAX-HOU-ATL-GSP GSP-ATL-MDW-MCO OFF OFF OFF OFF OFF OFF OFF MCO-DEN-STL STL-BWI-ISP-BWI-JAX JAX-HOU-ATL-GSP GSP-ATL-MDW-MCO OFF OFF OFF '"
      ]
     },
     "execution_count": 10,
     "metadata": {},
     "output_type": "execute_result"
    }
   ],
   "source": [
    "data['post_text'][0]"
   ]
  },
  {
   "cell_type": "code",
   "execution_count": 11,
   "metadata": {},
   "outputs": [],
   "source": [
    "data.to_csv('airline_forum_updated.csv', sep='\\t')"
   ]
  }
 ],
 "metadata": {
  "kernelspec": {
   "display_name": "Python 3",
   "language": "python",
   "name": "python3"
  },
  "language_info": {
   "codemirror_mode": {
    "name": "ipython",
    "version": 3
   },
   "file_extension": ".py",
   "mimetype": "text/x-python",
   "name": "python",
   "nbconvert_exporter": "python",
   "pygments_lexer": "ipython3",
   "version": "3.7.4"
  }
 },
 "nbformat": 4,
 "nbformat_minor": 4
}
