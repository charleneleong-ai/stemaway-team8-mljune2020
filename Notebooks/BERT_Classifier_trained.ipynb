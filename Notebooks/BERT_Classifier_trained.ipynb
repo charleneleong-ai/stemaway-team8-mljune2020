{
  "nbformat": 4,
  "nbformat_minor": 0,
  "metadata": {
    "kernelspec": {
      "display_name": "Python 3",
      "language": "python",
      "name": "python3"
    },
    "language_info": {
      "codemirror_mode": {
        "name": "ipython",
        "version": 3
      },
      "file_extension": ".py",
      "mimetype": "text/x-python",
      "name": "python",
      "nbconvert_exporter": "python",
      "pygments_lexer": "ipython3",
      "version": "3.7.4"
    },
    "colab": {
      "name": "BERT_Classifier.ipynb",
      "provenance": []
    },
    "accelerator": "GPU",
    "widgets": {
      "application/vnd.jupyter.widget-state+json": {
        "8f7814318f5147e383c062f6bef4c49b": {
          "model_module": "@jupyter-widgets/controls",
          "model_name": "HBoxModel",
          "state": {
            "_view_name": "HBoxView",
            "_dom_classes": [],
            "_model_name": "HBoxModel",
            "_view_module": "@jupyter-widgets/controls",
            "_model_module_version": "1.5.0",
            "_view_count": null,
            "_view_module_version": "1.5.0",
            "box_style": "",
            "layout": "IPY_MODEL_f54b7e519d7d413a8df09bd3e0b607cd",
            "_model_module": "@jupyter-widgets/controls",
            "children": [
              "IPY_MODEL_1f9711bc699b4f93afda34e2684e06ec",
              "IPY_MODEL_d30cd02ae27042dd9aa1bd1e070fc00b"
            ]
          }
        },
        "f54b7e519d7d413a8df09bd3e0b607cd": {
          "model_module": "@jupyter-widgets/base",
          "model_name": "LayoutModel",
          "state": {
            "_view_name": "LayoutView",
            "grid_template_rows": null,
            "right": null,
            "justify_content": null,
            "_view_module": "@jupyter-widgets/base",
            "overflow": null,
            "_model_module_version": "1.2.0",
            "_view_count": null,
            "flex_flow": null,
            "width": null,
            "min_width": null,
            "border": null,
            "align_items": null,
            "bottom": null,
            "_model_module": "@jupyter-widgets/base",
            "top": null,
            "grid_column": null,
            "overflow_y": null,
            "overflow_x": null,
            "grid_auto_flow": null,
            "grid_area": null,
            "grid_template_columns": null,
            "flex": null,
            "_model_name": "LayoutModel",
            "justify_items": null,
            "grid_row": null,
            "max_height": null,
            "align_content": null,
            "visibility": null,
            "align_self": null,
            "height": null,
            "min_height": null,
            "padding": null,
            "grid_auto_rows": null,
            "grid_gap": null,
            "max_width": null,
            "order": null,
            "_view_module_version": "1.2.0",
            "grid_template_areas": null,
            "object_position": null,
            "object_fit": null,
            "grid_auto_columns": null,
            "margin": null,
            "display": null,
            "left": null
          }
        },
        "1f9711bc699b4f93afda34e2684e06ec": {
          "model_module": "@jupyter-widgets/controls",
          "model_name": "FloatProgressModel",
          "state": {
            "_view_name": "ProgressView",
            "style": "IPY_MODEL_ebc00f0e0b2b40adbdd2a50005e480a6",
            "_dom_classes": [],
            "description": "Downloading: 100%",
            "_model_name": "FloatProgressModel",
            "bar_style": "success",
            "max": 231508,
            "_view_module": "@jupyter-widgets/controls",
            "_model_module_version": "1.5.0",
            "value": 231508,
            "_view_count": null,
            "_view_module_version": "1.5.0",
            "orientation": "horizontal",
            "min": 0,
            "description_tooltip": null,
            "_model_module": "@jupyter-widgets/controls",
            "layout": "IPY_MODEL_dacbb29f78f74429b56ce5be4b04b145"
          }
        },
        "d30cd02ae27042dd9aa1bd1e070fc00b": {
          "model_module": "@jupyter-widgets/controls",
          "model_name": "HTMLModel",
          "state": {
            "_view_name": "HTMLView",
            "style": "IPY_MODEL_6f694339d1c3442da8d8ab0cbd026527",
            "_dom_classes": [],
            "description": "",
            "_model_name": "HTMLModel",
            "placeholder": "​",
            "_view_module": "@jupyter-widgets/controls",
            "_model_module_version": "1.5.0",
            "value": " 232k/232k [00:00&lt;00:00, 298kB/s]",
            "_view_count": null,
            "_view_module_version": "1.5.0",
            "description_tooltip": null,
            "_model_module": "@jupyter-widgets/controls",
            "layout": "IPY_MODEL_6a66fde4049d4473819cae6227938fa6"
          }
        },
        "ebc00f0e0b2b40adbdd2a50005e480a6": {
          "model_module": "@jupyter-widgets/controls",
          "model_name": "ProgressStyleModel",
          "state": {
            "_view_name": "StyleView",
            "_model_name": "ProgressStyleModel",
            "description_width": "initial",
            "_view_module": "@jupyter-widgets/base",
            "_model_module_version": "1.5.0",
            "_view_count": null,
            "_view_module_version": "1.2.0",
            "bar_color": null,
            "_model_module": "@jupyter-widgets/controls"
          }
        },
        "dacbb29f78f74429b56ce5be4b04b145": {
          "model_module": "@jupyter-widgets/base",
          "model_name": "LayoutModel",
          "state": {
            "_view_name": "LayoutView",
            "grid_template_rows": null,
            "right": null,
            "justify_content": null,
            "_view_module": "@jupyter-widgets/base",
            "overflow": null,
            "_model_module_version": "1.2.0",
            "_view_count": null,
            "flex_flow": null,
            "width": null,
            "min_width": null,
            "border": null,
            "align_items": null,
            "bottom": null,
            "_model_module": "@jupyter-widgets/base",
            "top": null,
            "grid_column": null,
            "overflow_y": null,
            "overflow_x": null,
            "grid_auto_flow": null,
            "grid_area": null,
            "grid_template_columns": null,
            "flex": null,
            "_model_name": "LayoutModel",
            "justify_items": null,
            "grid_row": null,
            "max_height": null,
            "align_content": null,
            "visibility": null,
            "align_self": null,
            "height": null,
            "min_height": null,
            "padding": null,
            "grid_auto_rows": null,
            "grid_gap": null,
            "max_width": null,
            "order": null,
            "_view_module_version": "1.2.0",
            "grid_template_areas": null,
            "object_position": null,
            "object_fit": null,
            "grid_auto_columns": null,
            "margin": null,
            "display": null,
            "left": null
          }
        },
        "6f694339d1c3442da8d8ab0cbd026527": {
          "model_module": "@jupyter-widgets/controls",
          "model_name": "DescriptionStyleModel",
          "state": {
            "_view_name": "StyleView",
            "_model_name": "DescriptionStyleModel",
            "description_width": "",
            "_view_module": "@jupyter-widgets/base",
            "_model_module_version": "1.5.0",
            "_view_count": null,
            "_view_module_version": "1.2.0",
            "_model_module": "@jupyter-widgets/controls"
          }
        },
        "6a66fde4049d4473819cae6227938fa6": {
          "model_module": "@jupyter-widgets/base",
          "model_name": "LayoutModel",
          "state": {
            "_view_name": "LayoutView",
            "grid_template_rows": null,
            "right": null,
            "justify_content": null,
            "_view_module": "@jupyter-widgets/base",
            "overflow": null,
            "_model_module_version": "1.2.0",
            "_view_count": null,
            "flex_flow": null,
            "width": null,
            "min_width": null,
            "border": null,
            "align_items": null,
            "bottom": null,
            "_model_module": "@jupyter-widgets/base",
            "top": null,
            "grid_column": null,
            "overflow_y": null,
            "overflow_x": null,
            "grid_auto_flow": null,
            "grid_area": null,
            "grid_template_columns": null,
            "flex": null,
            "_model_name": "LayoutModel",
            "justify_items": null,
            "grid_row": null,
            "max_height": null,
            "align_content": null,
            "visibility": null,
            "align_self": null,
            "height": null,
            "min_height": null,
            "padding": null,
            "grid_auto_rows": null,
            "grid_gap": null,
            "max_width": null,
            "order": null,
            "_view_module_version": "1.2.0",
            "grid_template_areas": null,
            "object_position": null,
            "object_fit": null,
            "grid_auto_columns": null,
            "margin": null,
            "display": null,
            "left": null
          }
        },
        "57a3a83197624d5e965bc2f0c22fc1ea": {
          "model_module": "@jupyter-widgets/controls",
          "model_name": "HBoxModel",
          "state": {
            "_view_name": "HBoxView",
            "_dom_classes": [],
            "_model_name": "HBoxModel",
            "_view_module": "@jupyter-widgets/controls",
            "_model_module_version": "1.5.0",
            "_view_count": null,
            "_view_module_version": "1.5.0",
            "box_style": "",
            "layout": "IPY_MODEL_a8358e2e3349413990388fe827569ae0",
            "_model_module": "@jupyter-widgets/controls",
            "children": [
              "IPY_MODEL_dadbb2458781449ca773e66bea338fcf",
              "IPY_MODEL_9aec26ec3f1f44398abdc0020e4c667d"
            ]
          }
        },
        "a8358e2e3349413990388fe827569ae0": {
          "model_module": "@jupyter-widgets/base",
          "model_name": "LayoutModel",
          "state": {
            "_view_name": "LayoutView",
            "grid_template_rows": null,
            "right": null,
            "justify_content": null,
            "_view_module": "@jupyter-widgets/base",
            "overflow": null,
            "_model_module_version": "1.2.0",
            "_view_count": null,
            "flex_flow": null,
            "width": null,
            "min_width": null,
            "border": null,
            "align_items": null,
            "bottom": null,
            "_model_module": "@jupyter-widgets/base",
            "top": null,
            "grid_column": null,
            "overflow_y": null,
            "overflow_x": null,
            "grid_auto_flow": null,
            "grid_area": null,
            "grid_template_columns": null,
            "flex": null,
            "_model_name": "LayoutModel",
            "justify_items": null,
            "grid_row": null,
            "max_height": null,
            "align_content": null,
            "visibility": null,
            "align_self": null,
            "height": null,
            "min_height": null,
            "padding": null,
            "grid_auto_rows": null,
            "grid_gap": null,
            "max_width": null,
            "order": null,
            "_view_module_version": "1.2.0",
            "grid_template_areas": null,
            "object_position": null,
            "object_fit": null,
            "grid_auto_columns": null,
            "margin": null,
            "display": null,
            "left": null
          }
        },
        "dadbb2458781449ca773e66bea338fcf": {
          "model_module": "@jupyter-widgets/controls",
          "model_name": "FloatProgressModel",
          "state": {
            "_view_name": "ProgressView",
            "style": "IPY_MODEL_b3028a1567a44227864e2ff34d449283",
            "_dom_classes": [],
            "description": "Downloading: 100%",
            "_model_name": "FloatProgressModel",
            "bar_style": "success",
            "max": 433,
            "_view_module": "@jupyter-widgets/controls",
            "_model_module_version": "1.5.0",
            "value": 433,
            "_view_count": null,
            "_view_module_version": "1.5.0",
            "orientation": "horizontal",
            "min": 0,
            "description_tooltip": null,
            "_model_module": "@jupyter-widgets/controls",
            "layout": "IPY_MODEL_00ed370671b342af9acebf63b431beb0"
          }
        },
        "9aec26ec3f1f44398abdc0020e4c667d": {
          "model_module": "@jupyter-widgets/controls",
          "model_name": "HTMLModel",
          "state": {
            "_view_name": "HTMLView",
            "style": "IPY_MODEL_b7880ba679004175a39c6d9f46c2a80b",
            "_dom_classes": [],
            "description": "",
            "_model_name": "HTMLModel",
            "placeholder": "​",
            "_view_module": "@jupyter-widgets/controls",
            "_model_module_version": "1.5.0",
            "value": " 433/433 [00:10&lt;00:00, 40.9B/s]",
            "_view_count": null,
            "_view_module_version": "1.5.0",
            "description_tooltip": null,
            "_model_module": "@jupyter-widgets/controls",
            "layout": "IPY_MODEL_caea2191b87c43079bd098812555fd3b"
          }
        },
        "b3028a1567a44227864e2ff34d449283": {
          "model_module": "@jupyter-widgets/controls",
          "model_name": "ProgressStyleModel",
          "state": {
            "_view_name": "StyleView",
            "_model_name": "ProgressStyleModel",
            "description_width": "initial",
            "_view_module": "@jupyter-widgets/base",
            "_model_module_version": "1.5.0",
            "_view_count": null,
            "_view_module_version": "1.2.0",
            "bar_color": null,
            "_model_module": "@jupyter-widgets/controls"
          }
        },
        "00ed370671b342af9acebf63b431beb0": {
          "model_module": "@jupyter-widgets/base",
          "model_name": "LayoutModel",
          "state": {
            "_view_name": "LayoutView",
            "grid_template_rows": null,
            "right": null,
            "justify_content": null,
            "_view_module": "@jupyter-widgets/base",
            "overflow": null,
            "_model_module_version": "1.2.0",
            "_view_count": null,
            "flex_flow": null,
            "width": null,
            "min_width": null,
            "border": null,
            "align_items": null,
            "bottom": null,
            "_model_module": "@jupyter-widgets/base",
            "top": null,
            "grid_column": null,
            "overflow_y": null,
            "overflow_x": null,
            "grid_auto_flow": null,
            "grid_area": null,
            "grid_template_columns": null,
            "flex": null,
            "_model_name": "LayoutModel",
            "justify_items": null,
            "grid_row": null,
            "max_height": null,
            "align_content": null,
            "visibility": null,
            "align_self": null,
            "height": null,
            "min_height": null,
            "padding": null,
            "grid_auto_rows": null,
            "grid_gap": null,
            "max_width": null,
            "order": null,
            "_view_module_version": "1.2.0",
            "grid_template_areas": null,
            "object_position": null,
            "object_fit": null,
            "grid_auto_columns": null,
            "margin": null,
            "display": null,
            "left": null
          }
        },
        "b7880ba679004175a39c6d9f46c2a80b": {
          "model_module": "@jupyter-widgets/controls",
          "model_name": "DescriptionStyleModel",
          "state": {
            "_view_name": "StyleView",
            "_model_name": "DescriptionStyleModel",
            "description_width": "",
            "_view_module": "@jupyter-widgets/base",
            "_model_module_version": "1.5.0",
            "_view_count": null,
            "_view_module_version": "1.2.0",
            "_model_module": "@jupyter-widgets/controls"
          }
        },
        "caea2191b87c43079bd098812555fd3b": {
          "model_module": "@jupyter-widgets/base",
          "model_name": "LayoutModel",
          "state": {
            "_view_name": "LayoutView",
            "grid_template_rows": null,
            "right": null,
            "justify_content": null,
            "_view_module": "@jupyter-widgets/base",
            "overflow": null,
            "_model_module_version": "1.2.0",
            "_view_count": null,
            "flex_flow": null,
            "width": null,
            "min_width": null,
            "border": null,
            "align_items": null,
            "bottom": null,
            "_model_module": "@jupyter-widgets/base",
            "top": null,
            "grid_column": null,
            "overflow_y": null,
            "overflow_x": null,
            "grid_auto_flow": null,
            "grid_area": null,
            "grid_template_columns": null,
            "flex": null,
            "_model_name": "LayoutModel",
            "justify_items": null,
            "grid_row": null,
            "max_height": null,
            "align_content": null,
            "visibility": null,
            "align_self": null,
            "height": null,
            "min_height": null,
            "padding": null,
            "grid_auto_rows": null,
            "grid_gap": null,
            "max_width": null,
            "order": null,
            "_view_module_version": "1.2.0",
            "grid_template_areas": null,
            "object_position": null,
            "object_fit": null,
            "grid_auto_columns": null,
            "margin": null,
            "display": null,
            "left": null
          }
        },
        "ba5d55e2693747e2b62025e17238c0c4": {
          "model_module": "@jupyter-widgets/controls",
          "model_name": "HBoxModel",
          "state": {
            "_view_name": "HBoxView",
            "_dom_classes": [],
            "_model_name": "HBoxModel",
            "_view_module": "@jupyter-widgets/controls",
            "_model_module_version": "1.5.0",
            "_view_count": null,
            "_view_module_version": "1.5.0",
            "box_style": "",
            "layout": "IPY_MODEL_2e98f775b3524407aa549ff87f7b59d9",
            "_model_module": "@jupyter-widgets/controls",
            "children": [
              "IPY_MODEL_cebbdf1403ef46cbaedf631020de852c",
              "IPY_MODEL_cd3e89576bfc421fbcee765f7a73121d"
            ]
          }
        },
        "2e98f775b3524407aa549ff87f7b59d9": {
          "model_module": "@jupyter-widgets/base",
          "model_name": "LayoutModel",
          "state": {
            "_view_name": "LayoutView",
            "grid_template_rows": null,
            "right": null,
            "justify_content": null,
            "_view_module": "@jupyter-widgets/base",
            "overflow": null,
            "_model_module_version": "1.2.0",
            "_view_count": null,
            "flex_flow": null,
            "width": null,
            "min_width": null,
            "border": null,
            "align_items": null,
            "bottom": null,
            "_model_module": "@jupyter-widgets/base",
            "top": null,
            "grid_column": null,
            "overflow_y": null,
            "overflow_x": null,
            "grid_auto_flow": null,
            "grid_area": null,
            "grid_template_columns": null,
            "flex": null,
            "_model_name": "LayoutModel",
            "justify_items": null,
            "grid_row": null,
            "max_height": null,
            "align_content": null,
            "visibility": null,
            "align_self": null,
            "height": null,
            "min_height": null,
            "padding": null,
            "grid_auto_rows": null,
            "grid_gap": null,
            "max_width": null,
            "order": null,
            "_view_module_version": "1.2.0",
            "grid_template_areas": null,
            "object_position": null,
            "object_fit": null,
            "grid_auto_columns": null,
            "margin": null,
            "display": null,
            "left": null
          }
        },
        "cebbdf1403ef46cbaedf631020de852c": {
          "model_module": "@jupyter-widgets/controls",
          "model_name": "FloatProgressModel",
          "state": {
            "_view_name": "ProgressView",
            "style": "IPY_MODEL_ac45aebed3db4efe8f5498032a20ef93",
            "_dom_classes": [],
            "description": "Downloading: 100%",
            "_model_name": "FloatProgressModel",
            "bar_style": "success",
            "max": 440473133,
            "_view_module": "@jupyter-widgets/controls",
            "_model_module_version": "1.5.0",
            "value": 440473133,
            "_view_count": null,
            "_view_module_version": "1.5.0",
            "orientation": "horizontal",
            "min": 0,
            "description_tooltip": null,
            "_model_module": "@jupyter-widgets/controls",
            "layout": "IPY_MODEL_947af0cf03594a21856c163fadce5d26"
          }
        },
        "cd3e89576bfc421fbcee765f7a73121d": {
          "model_module": "@jupyter-widgets/controls",
          "model_name": "HTMLModel",
          "state": {
            "_view_name": "HTMLView",
            "style": "IPY_MODEL_18b7e4bb6c09428592e958a08a6da52f",
            "_dom_classes": [],
            "description": "",
            "_model_name": "HTMLModel",
            "placeholder": "​",
            "_view_module": "@jupyter-widgets/controls",
            "_model_module_version": "1.5.0",
            "value": " 440M/440M [00:10&lt;00:00, 43.2MB/s]",
            "_view_count": null,
            "_view_module_version": "1.5.0",
            "description_tooltip": null,
            "_model_module": "@jupyter-widgets/controls",
            "layout": "IPY_MODEL_149286df35f04067b11d11118c258c6c"
          }
        },
        "ac45aebed3db4efe8f5498032a20ef93": {
          "model_module": "@jupyter-widgets/controls",
          "model_name": "ProgressStyleModel",
          "state": {
            "_view_name": "StyleView",
            "_model_name": "ProgressStyleModel",
            "description_width": "initial",
            "_view_module": "@jupyter-widgets/base",
            "_model_module_version": "1.5.0",
            "_view_count": null,
            "_view_module_version": "1.2.0",
            "bar_color": null,
            "_model_module": "@jupyter-widgets/controls"
          }
        },
        "947af0cf03594a21856c163fadce5d26": {
          "model_module": "@jupyter-widgets/base",
          "model_name": "LayoutModel",
          "state": {
            "_view_name": "LayoutView",
            "grid_template_rows": null,
            "right": null,
            "justify_content": null,
            "_view_module": "@jupyter-widgets/base",
            "overflow": null,
            "_model_module_version": "1.2.0",
            "_view_count": null,
            "flex_flow": null,
            "width": null,
            "min_width": null,
            "border": null,
            "align_items": null,
            "bottom": null,
            "_model_module": "@jupyter-widgets/base",
            "top": null,
            "grid_column": null,
            "overflow_y": null,
            "overflow_x": null,
            "grid_auto_flow": null,
            "grid_area": null,
            "grid_template_columns": null,
            "flex": null,
            "_model_name": "LayoutModel",
            "justify_items": null,
            "grid_row": null,
            "max_height": null,
            "align_content": null,
            "visibility": null,
            "align_self": null,
            "height": null,
            "min_height": null,
            "padding": null,
            "grid_auto_rows": null,
            "grid_gap": null,
            "max_width": null,
            "order": null,
            "_view_module_version": "1.2.0",
            "grid_template_areas": null,
            "object_position": null,
            "object_fit": null,
            "grid_auto_columns": null,
            "margin": null,
            "display": null,
            "left": null
          }
        },
        "18b7e4bb6c09428592e958a08a6da52f": {
          "model_module": "@jupyter-widgets/controls",
          "model_name": "DescriptionStyleModel",
          "state": {
            "_view_name": "StyleView",
            "_model_name": "DescriptionStyleModel",
            "description_width": "",
            "_view_module": "@jupyter-widgets/base",
            "_model_module_version": "1.5.0",
            "_view_count": null,
            "_view_module_version": "1.2.0",
            "_model_module": "@jupyter-widgets/controls"
          }
        },
        "149286df35f04067b11d11118c258c6c": {
          "model_module": "@jupyter-widgets/base",
          "model_name": "LayoutModel",
          "state": {
            "_view_name": "LayoutView",
            "grid_template_rows": null,
            "right": null,
            "justify_content": null,
            "_view_module": "@jupyter-widgets/base",
            "overflow": null,
            "_model_module_version": "1.2.0",
            "_view_count": null,
            "flex_flow": null,
            "width": null,
            "min_width": null,
            "border": null,
            "align_items": null,
            "bottom": null,
            "_model_module": "@jupyter-widgets/base",
            "top": null,
            "grid_column": null,
            "overflow_y": null,
            "overflow_x": null,
            "grid_auto_flow": null,
            "grid_area": null,
            "grid_template_columns": null,
            "flex": null,
            "_model_name": "LayoutModel",
            "justify_items": null,
            "grid_row": null,
            "max_height": null,
            "align_content": null,
            "visibility": null,
            "align_self": null,
            "height": null,
            "min_height": null,
            "padding": null,
            "grid_auto_rows": null,
            "grid_gap": null,
            "max_width": null,
            "order": null,
            "_view_module_version": "1.2.0",
            "grid_template_areas": null,
            "object_position": null,
            "object_fit": null,
            "grid_auto_columns": null,
            "margin": null,
            "display": null,
            "left": null
          }
        }
      }
    }
  },
  "cells": [
    {
      "cell_type": "code",
      "metadata": {
        "id": "N6sHUV4BECKG",
        "colab_type": "code",
        "colab": {}
      },
      "source": [
        "import pandas as pd\n",
        "import numpy as np"
      ],
      "execution_count": 1,
      "outputs": []
    },
    {
      "cell_type": "code",
      "metadata": {
        "id": "NupvCABz22lg",
        "colab_type": "code",
        "colab": {
          "base_uri": "https://localhost:8080/",
          "height": 122
        },
        "outputId": "2de8b2c4-2e52-4b76-b533-79891c156f41"
      },
      "source": [
        "# Mount Google Drive to this Notebook instance.\n",
        "from google.colab import drive\n",
        "drive.mount('/content/drive')"
      ],
      "execution_count": 2,
      "outputs": [
        {
          "output_type": "stream",
          "text": [
            "Go to this URL in a browser: https://accounts.google.com/o/oauth2/auth?client_id=947318989803-6bn6qk8qdgf4n4g3pfee6491hc0brc4i.apps.googleusercontent.com&redirect_uri=urn%3aietf%3awg%3aoauth%3a2.0%3aoob&response_type=code&scope=email%20https%3a%2f%2fwww.googleapis.com%2fauth%2fdocs.test%20https%3a%2f%2fwww.googleapis.com%2fauth%2fdrive%20https%3a%2f%2fwww.googleapis.com%2fauth%2fdrive.photos.readonly%20https%3a%2f%2fwww.googleapis.com%2fauth%2fpeopleapi.readonly\n",
            "\n",
            "Enter your authorization code:\n",
            "··········\n",
            "Mounted at /content/drive\n"
          ],
          "name": "stdout"
        }
      ]
    },
    {
      "cell_type": "code",
      "metadata": {
        "id": "p0zTSUVLbNpw",
        "colab_type": "code",
        "colab": {
          "base_uri": "https://localhost:8080/",
          "height": 34
        },
        "outputId": "b6561208-eea9-4d5c-b951-205cf62bf8de"
      },
      "source": [
        "!pwd"
      ],
      "execution_count": 3,
      "outputs": [
        {
          "output_type": "stream",
          "text": [
            "/content\n"
          ],
          "name": "stdout"
        }
      ]
    },
    {
      "cell_type": "code",
      "metadata": {
        "id": "VX_Qe10-bYvF",
        "colab_type": "code",
        "colab": {
          "base_uri": "https://localhost:8080/",
          "height": 34
        },
        "outputId": "01f92219-02a2-41a6-8b3d-1af0528d7d4e"
      },
      "source": [
        "ls"
      ],
      "execution_count": 4,
      "outputs": [
        {
          "output_type": "stream",
          "text": [
            "\u001b[0m\u001b[01;34mdrive\u001b[0m/  \u001b[01;34msample_data\u001b[0m/\n"
          ],
          "name": "stdout"
        }
      ]
    },
    {
      "cell_type": "code",
      "metadata": {
        "id": "kfzPCXCJECKL",
        "colab_type": "code",
        "colab": {}
      },
      "source": [
        "d1 = pd.read_csv('drive/My Drive/posts_cc.csv')\n",
        "d2 = pd.read_csv('drive/My Drive/folksy_forum_posts.csv')\n",
        "d3 = pd.read_csv('drive/My Drive/huel.csv')\n",
        "d4 = pd.read_csv('drive/My Drive/airline_forum_updated.csv')"
      ],
      "execution_count": 5,
      "outputs": []
    },
    {
      "cell_type": "code",
      "metadata": {
        "id": "ZrPVC5iEECKN",
        "colab_type": "code",
        "colab": {
          "base_uri": "https://localhost:8080/",
          "height": 309
        },
        "outputId": "d810a785-e798-44ed-fa0d-d91d2d094a59"
      },
      "source": [
        "d1.head()"
      ],
      "execution_count": 6,
      "outputs": [
        {
          "output_type": "execute_result",
          "data": {
            "text/html": [
              "<div>\n",
              "<style scoped>\n",
              "    .dataframe tbody tr th:only-of-type {\n",
              "        vertical-align: middle;\n",
              "    }\n",
              "\n",
              "    .dataframe tbody tr th {\n",
              "        vertical-align: top;\n",
              "    }\n",
              "\n",
              "    .dataframe thead th {\n",
              "        text-align: right;\n",
              "    }\n",
              "</style>\n",
              "<table border=\"1\" class=\"dataframe\">\n",
              "  <thead>\n",
              "    <tr style=\"text-align: right;\">\n",
              "      <th></th>\n",
              "      <th>post_id</th>\n",
              "      <th>username</th>\n",
              "      <th>created_at</th>\n",
              "      <th>cooked</th>\n",
              "      <th>post_number</th>\n",
              "      <th>updated_at</th>\n",
              "      <th>reply_count</th>\n",
              "      <th>reply_to_post_num</th>\n",
              "      <th>reads</th>\n",
              "      <th>topic_id</th>\n",
              "      <th>user_id</th>\n",
              "      <th>topic_slug</th>\n",
              "    </tr>\n",
              "  </thead>\n",
              "  <tbody>\n",
              "    <tr>\n",
              "      <th>0</th>\n",
              "      <td>88902</td>\n",
              "      <td>athian</td>\n",
              "      <td>2020-06-08T06:38:19.593Z</td>\n",
              "      <td>Hey guys I’m in a hurry here I have more thing...</td>\n",
              "      <td>1.0</td>\n",
              "      <td>2020-06-08T09:15:34.393Z</td>\n",
              "      <td>2.0</td>\n",
              "      <td>0.0</td>\n",
              "      <td>12</td>\n",
              "      <td>22098.0</td>\n",
              "      <td>11582.0</td>\n",
              "      <td>bookkeeper-help-me</td>\n",
              "    </tr>\n",
              "    <tr>\n",
              "      <th>1</th>\n",
              "      <td>88904</td>\n",
              "      <td>AnseDra</td>\n",
              "      <td>2020-06-08T06:47:33.808Z</td>\n",
              "      <td>athian:ifInstead of if put while athian:var i...</td>\n",
              "      <td>2.0</td>\n",
              "      <td>2020-06-08T06:47:33.808Z</td>\n",
              "      <td>1.0</td>\n",
              "      <td>0.0</td>\n",
              "      <td>12</td>\n",
              "      <td>22098.0</td>\n",
              "      <td>11400.0</td>\n",
              "      <td>bookkeeper-help-me</td>\n",
              "    </tr>\n",
              "    <tr>\n",
              "      <th>2</th>\n",
              "      <td>88905</td>\n",
              "      <td>AnseDra</td>\n",
              "      <td>2020-06-08T06:49:33.583Z</td>\n",
              "      <td>Does it work now?</td>\n",
              "      <td>3.0</td>\n",
              "      <td>2020-06-08T06:49:33.583Z</td>\n",
              "      <td>0.0</td>\n",
              "      <td>2.0</td>\n",
              "      <td>12</td>\n",
              "      <td>22098.0</td>\n",
              "      <td>11400.0</td>\n",
              "      <td>bookkeeper-help-me</td>\n",
              "    </tr>\n",
              "    <tr>\n",
              "      <th>3</th>\n",
              "      <td>88906</td>\n",
              "      <td>AnseDra</td>\n",
              "      <td>2020-06-08T06:50:29.087Z</td>\n",
              "      <td>athian:hero.say(hero.gold);Before this put on...</td>\n",
              "      <td>4.0</td>\n",
              "      <td>2020-06-09T07:48:13.249Z</td>\n",
              "      <td>1.0</td>\n",
              "      <td>0.0</td>\n",
              "      <td>11</td>\n",
              "      <td>22098.0</td>\n",
              "      <td>11400.0</td>\n",
              "      <td>bookkeeper-help-me</td>\n",
              "    </tr>\n",
              "    <tr>\n",
              "      <th>4</th>\n",
              "      <td>89038</td>\n",
              "      <td>athian</td>\n",
              "      <td>2020-06-09T06:43:46.638Z</td>\n",
              "      <td>Thanks @AnseDra ! It worked</td>\n",
              "      <td>5.0</td>\n",
              "      <td>2020-06-09T06:43:46.638Z</td>\n",
              "      <td>0.0</td>\n",
              "      <td>4.0</td>\n",
              "      <td>6</td>\n",
              "      <td>22098.0</td>\n",
              "      <td>11582.0</td>\n",
              "      <td>bookkeeper-help-me</td>\n",
              "    </tr>\n",
              "  </tbody>\n",
              "</table>\n",
              "</div>"
            ],
            "text/plain": [
              "  post_id username  ...  user_id          topic_slug\n",
              "0   88902   athian  ...  11582.0  bookkeeper-help-me\n",
              "1   88904  AnseDra  ...  11400.0  bookkeeper-help-me\n",
              "2   88905  AnseDra  ...  11400.0  bookkeeper-help-me\n",
              "3   88906  AnseDra  ...  11400.0  bookkeeper-help-me\n",
              "4   89038   athian  ...  11582.0  bookkeeper-help-me\n",
              "\n",
              "[5 rows x 12 columns]"
            ]
          },
          "metadata": {
            "tags": []
          },
          "execution_count": 6
        }
      ]
    },
    {
      "cell_type": "code",
      "metadata": {
        "id": "IvoxELu-ECKQ",
        "colab_type": "code",
        "colab": {
          "base_uri": "https://localhost:8080/",
          "height": 598
        },
        "outputId": "47d62735-91f7-4628-be46-6aac8e2c6439"
      },
      "source": [
        "d2.head()"
      ],
      "execution_count": 7,
      "outputs": [
        {
          "output_type": "execute_result",
          "data": {
            "text/html": [
              "<div>\n",
              "<style scoped>\n",
              "    .dataframe tbody tr th:only-of-type {\n",
              "        vertical-align: middle;\n",
              "    }\n",
              "\n",
              "    .dataframe tbody tr th {\n",
              "        vertical-align: top;\n",
              "    }\n",
              "\n",
              "    .dataframe thead th {\n",
              "        text-align: right;\n",
              "    }\n",
              "</style>\n",
              "<table border=\"1\" class=\"dataframe\">\n",
              "  <thead>\n",
              "    <tr style=\"text-align: right;\">\n",
              "      <th></th>\n",
              "      <th>Unnamed: 0</th>\n",
              "      <th>id</th>\n",
              "      <th>username</th>\n",
              "      <th>created_at</th>\n",
              "      <th>cooked</th>\n",
              "      <th>post_number</th>\n",
              "      <th>updated_at</th>\n",
              "      <th>reply_count</th>\n",
              "      <th>reply_to_post_num</th>\n",
              "      <th>reads</th>\n",
              "      <th>topic_id</th>\n",
              "      <th>user_id</th>\n",
              "      <th>topic_slug</th>\n",
              "      <th>forum_name</th>\n",
              "    </tr>\n",
              "  </thead>\n",
              "  <tbody>\n",
              "    <tr>\n",
              "      <th>0</th>\n",
              "      <td>0</td>\n",
              "      <td>412784</td>\n",
              "      <td>DeesDesigns</td>\n",
              "      <td>2020-06-04T10:03:17.286Z</td>\n",
              "      <td>Im a little confused  not difficult at the mo...</td>\n",
              "      <td>1</td>\n",
              "      <td>2020-06-04T10:03:17.286Z</td>\n",
              "      <td>0</td>\n",
              "      <td>NaN</td>\n",
              "      <td>36</td>\n",
              "      <td>20138</td>\n",
              "      <td>101</td>\n",
              "      <td>when-is-fathers-day-in-the-uk</td>\n",
              "      <td>folksy</td>\n",
              "    </tr>\n",
              "    <tr>\n",
              "      <th>1</th>\n",
              "      <td>1</td>\n",
              "      <td>412789</td>\n",
              "      <td>leavalleyart</td>\n",
              "      <td>2020-06-04T10:15:56.277Z</td>\n",
              "      <td>I had to look it up too and the date I got wa...</td>\n",
              "      <td>2</td>\n",
              "      <td>2020-06-04T10:15:56.277Z</td>\n",
              "      <td>1</td>\n",
              "      <td>NaN</td>\n",
              "      <td>35</td>\n",
              "      <td>20138</td>\n",
              "      <td>8276</td>\n",
              "      <td>when-is-fathers-day-in-the-uk</td>\n",
              "      <td>folksy</td>\n",
              "    </tr>\n",
              "    <tr>\n",
              "      <th>2</th>\n",
              "      <td>2</td>\n",
              "      <td>412792</td>\n",
              "      <td>DeesDesigns</td>\n",
              "      <td>2020-06-04T10:22:12.817Z</td>\n",
              "      <td>Maybe its a header that hasnt been updated, j...</td>\n",
              "      <td>3</td>\n",
              "      <td>2020-06-04T10:22:12.817Z</td>\n",
              "      <td>0</td>\n",
              "      <td>2.0</td>\n",
              "      <td>35</td>\n",
              "      <td>20138</td>\n",
              "      <td>101</td>\n",
              "      <td>when-is-fathers-day-in-the-uk</td>\n",
              "      <td>folksy</td>\n",
              "    </tr>\n",
              "    <tr>\n",
              "      <th>3</th>\n",
              "      <td>3</td>\n",
              "      <td>412802</td>\n",
              "      <td>SashaGarrett</td>\n",
              "      <td>2020-06-04T11:15:53.017Z</td>\n",
              "      <td>I still have last years calendar - it was on ...</td>\n",
              "      <td>4</td>\n",
              "      <td>2020-06-04T11:15:53.017Z</td>\n",
              "      <td>1</td>\n",
              "      <td>NaN</td>\n",
              "      <td>28</td>\n",
              "      <td>20138</td>\n",
              "      <td>421</td>\n",
              "      <td>when-is-fathers-day-in-the-uk</td>\n",
              "      <td>folksy</td>\n",
              "    </tr>\n",
              "    <tr>\n",
              "      <th>4</th>\n",
              "      <td>4</td>\n",
              "      <td>412803</td>\n",
              "      <td>DeesDesigns</td>\n",
              "      <td>2020-06-04T11:17:55.407Z</td>\n",
              "      <td>Could be  img src  https   sjc5 discourse-cdn...</td>\n",
              "      <td>5</td>\n",
              "      <td>2020-06-04T11:17:55.407Z</td>\n",
              "      <td>0</td>\n",
              "      <td>4.0</td>\n",
              "      <td>27</td>\n",
              "      <td>20138</td>\n",
              "      <td>101</td>\n",
              "      <td>when-is-fathers-day-in-the-uk</td>\n",
              "      <td>folksy</td>\n",
              "    </tr>\n",
              "  </tbody>\n",
              "</table>\n",
              "</div>"
            ],
            "text/plain": [
              "   Unnamed: 0      id  ...                     topic_slug forum_name\n",
              "0           0  412784  ...  when-is-fathers-day-in-the-uk     folksy\n",
              "1           1  412789  ...  when-is-fathers-day-in-the-uk     folksy\n",
              "2           2  412792  ...  when-is-fathers-day-in-the-uk     folksy\n",
              "3           3  412802  ...  when-is-fathers-day-in-the-uk     folksy\n",
              "4           4  412803  ...  when-is-fathers-day-in-the-uk     folksy\n",
              "\n",
              "[5 rows x 14 columns]"
            ]
          },
          "metadata": {
            "tags": []
          },
          "execution_count": 7
        }
      ]
    },
    {
      "cell_type": "code",
      "metadata": {
        "id": "Zn-mQIN0ECKT",
        "colab_type": "code",
        "colab": {
          "base_uri": "https://localhost:8080/",
          "height": 530
        },
        "outputId": "310498dc-83b5-4743-f03e-dc949b90c1f7"
      },
      "source": [
        "d3.head()"
      ],
      "execution_count": 8,
      "outputs": [
        {
          "output_type": "execute_result",
          "data": {
            "text/html": [
              "<div>\n",
              "<style scoped>\n",
              "    .dataframe tbody tr th:only-of-type {\n",
              "        vertical-align: middle;\n",
              "    }\n",
              "\n",
              "    .dataframe tbody tr th {\n",
              "        vertical-align: top;\n",
              "    }\n",
              "\n",
              "    .dataframe thead th {\n",
              "        text-align: right;\n",
              "    }\n",
              "</style>\n",
              "<table border=\"1\" class=\"dataframe\">\n",
              "  <thead>\n",
              "    <tr style=\"text-align: right;\">\n",
              "      <th></th>\n",
              "      <th>post_text</th>\n",
              "      <th>post_id</th>\n",
              "      <th>user_id</th>\n",
              "      <th>username</th>\n",
              "      <th>reply_to_post_num</th>\n",
              "      <th>topic_id</th>\n",
              "      <th>post_num</th>\n",
              "      <th>reply_count</th>\n",
              "      <th>created_at</th>\n",
              "      <th>updated_at</th>\n",
              "      <th>num_reads</th>\n",
              "      <th>topic_slug</th>\n",
              "      <th>forum_name</th>\n",
              "    </tr>\n",
              "  </thead>\n",
              "  <tbody>\n",
              "    <tr>\n",
              "      <th>0</th>\n",
              "      <td>Purchased the trial pack, and used all flavors...</td>\n",
              "      <td>25656</td>\n",
              "      <td>4859</td>\n",
              "      <td>Justin_Keikhlasan</td>\n",
              "      <td>NaN</td>\n",
              "      <td>8815</td>\n",
              "      <td>1</td>\n",
              "      <td>0</td>\n",
              "      <td>2020-06-03T17:57:25.143Z</td>\n",
              "      <td>2020-06-08T20:27:53.011Z</td>\n",
              "      <td>18</td>\n",
              "      <td>flavor-booster-ratings</td>\n",
              "      <td>huel</td>\n",
              "    </tr>\n",
              "    <tr>\n",
              "      <th>1</th>\n",
              "      <td>i like mocha the best but it fks wth my stoma...</td>\n",
              "      <td>25662</td>\n",
              "      <td>4856</td>\n",
              "      <td>matt009</td>\n",
              "      <td>NaN</td>\n",
              "      <td>8815</td>\n",
              "      <td>2</td>\n",
              "      <td>1</td>\n",
              "      <td>2020-06-04T03:20:52.395Z</td>\n",
              "      <td>2020-06-04T03:20:52.395Z</td>\n",
              "      <td>15</td>\n",
              "      <td>flavor-booster-ratings</td>\n",
              "      <td>huel</td>\n",
              "    </tr>\n",
              "    <tr>\n",
              "      <th>2</th>\n",
              "      <td>Interesting! Here are my ratings (I haven’t t...</td>\n",
              "      <td>25677</td>\n",
              "      <td>4635</td>\n",
              "      <td>Tom</td>\n",
              "      <td>2.0</td>\n",
              "      <td>8815</td>\n",
              "      <td>3</td>\n",
              "      <td>2</td>\n",
              "      <td>2020-06-04T17:03:37.547Z</td>\n",
              "      <td>2020-06-04T17:04:06.818Z</td>\n",
              "      <td>14</td>\n",
              "      <td>flavor-booster-ratings</td>\n",
              "      <td>huel</td>\n",
              "    </tr>\n",
              "    <tr>\n",
              "      <th>3</th>\n",
              "      <td>i tried choc cherry only one i didnt like</td>\n",
              "      <td>25678</td>\n",
              "      <td>4856</td>\n",
              "      <td>matt009</td>\n",
              "      <td>3.0</td>\n",
              "      <td>8815</td>\n",
              "      <td>4</td>\n",
              "      <td>0</td>\n",
              "      <td>2020-06-04T18:19:22.386Z</td>\n",
              "      <td>2020-06-04T18:19:22.386Z</td>\n",
              "      <td>14</td>\n",
              "      <td>flavor-booster-ratings</td>\n",
              "      <td>huel</td>\n",
              "    </tr>\n",
              "    <tr>\n",
              "      <th>4</th>\n",
              "      <td>**Mint Chocolate** \\- 5/5. Like [@Tom](/u/to...</td>\n",
              "      <td>25679</td>\n",
              "      <td>4073</td>\n",
              "      <td>ericb</td>\n",
              "      <td>NaN</td>\n",
              "      <td>8815</td>\n",
              "      <td>5</td>\n",
              "      <td>1</td>\n",
              "      <td>2020-06-04T19:57:36.200Z</td>\n",
              "      <td>2020-06-04T20:01:21.397Z</td>\n",
              "      <td>13</td>\n",
              "      <td>flavor-booster-ratings</td>\n",
              "      <td>huel</td>\n",
              "    </tr>\n",
              "  </tbody>\n",
              "</table>\n",
              "</div>"
            ],
            "text/plain": [
              "                                           post_text  ...   forum_name\n",
              "0  Purchased the trial pack, and used all flavors...  ...         huel\n",
              "1   i like mocha the best but it fks wth my stoma...  ...         huel\n",
              "2   Interesting! Here are my ratings (I haven’t t...  ...         huel\n",
              "3         i tried choc cherry only one i didnt like   ...         huel\n",
              "4    **Mint Chocolate** \\- 5/5. Like [@Tom](/u/to...  ...         huel\n",
              "\n",
              "[5 rows x 13 columns]"
            ]
          },
          "metadata": {
            "tags": []
          },
          "execution_count": 8
        }
      ]
    },
    {
      "cell_type": "code",
      "metadata": {
        "id": "eSj53hMwECKV",
        "colab_type": "code",
        "colab": {
          "base_uri": "https://localhost:8080/",
          "height": 547
        },
        "outputId": "5491ec8b-01ab-49d2-a694-e99805bd247e"
      },
      "source": [
        "d4.head()"
      ],
      "execution_count": 9,
      "outputs": [
        {
          "output_type": "execute_result",
          "data": {
            "text/html": [
              "<div>\n",
              "<style scoped>\n",
              "    .dataframe tbody tr th:only-of-type {\n",
              "        vertical-align: middle;\n",
              "    }\n",
              "\n",
              "    .dataframe tbody tr th {\n",
              "        vertical-align: top;\n",
              "    }\n",
              "\n",
              "    .dataframe thead th {\n",
              "        text-align: right;\n",
              "    }\n",
              "</style>\n",
              "<table border=\"1\" class=\"dataframe\">\n",
              "  <thead>\n",
              "    <tr style=\"text-align: right;\">\n",
              "      <th></th>\n",
              "      <th>Unnamed: 0</th>\n",
              "      <th>post_text</th>\n",
              "      <th>post_id</th>\n",
              "      <th>user_id</th>\n",
              "      <th>username</th>\n",
              "      <th>reply_to_post_num</th>\n",
              "      <th>topic_id</th>\n",
              "      <th>post_num</th>\n",
              "      <th>reply_count</th>\n",
              "      <th>created at</th>\n",
              "      <th>updated_at</th>\n",
              "      <th>num_reads</th>\n",
              "      <th>topic_slug</th>\n",
              "      <th>forum_name</th>\n",
              "    </tr>\n",
              "  </thead>\n",
              "  <tbody>\n",
              "    <tr>\n",
              "      <th>0</th>\n",
              "      <td>0</td>\n",
              "      <td>Hey all - April credited 96 trips (~ 84 hours)...</td>\n",
              "      <td>74622</td>\n",
              "      <td>2954</td>\n",
              "      <td>JLascomb</td>\n",
              "      <td>NaN</td>\n",
              "      <td>26739</td>\n",
              "      <td>1</td>\n",
              "      <td>0</td>\n",
              "      <td>2020-05-29T23:32:09.974Z</td>\n",
              "      <td>2020-05-29T23:32:09.974Z</td>\n",
              "      <td>77</td>\n",
              "      <td>southwest-may-2020-schedule</td>\n",
              "      <td>airline</td>\n",
              "    </tr>\n",
              "    <tr>\n",
              "      <th>1</th>\n",
              "      <td>1</td>\n",
              "      <td>It’s great to see a rebound, even if it’s smal...</td>\n",
              "      <td>74769</td>\n",
              "      <td>17519</td>\n",
              "      <td>Seuk</td>\n",
              "      <td>NaN</td>\n",
              "      <td>26739</td>\n",
              "      <td>2</td>\n",
              "      <td>1</td>\n",
              "      <td>2020-06-03T13:50:24.022Z</td>\n",
              "      <td>2020-06-03T13:50:56.027Z</td>\n",
              "      <td>36</td>\n",
              "      <td>southwest-may-2020-schedule</td>\n",
              "      <td>airline</td>\n",
              "    </tr>\n",
              "    <tr>\n",
              "      <th>2</th>\n",
              "      <td>2</td>\n",
              "      <td>This articles takes a look at some of those po...</td>\n",
              "      <td>74773</td>\n",
              "      <td>2954</td>\n",
              "      <td>JLascomb</td>\n",
              "      <td>2.0</td>\n",
              "      <td>26739</td>\n",
              "      <td>3</td>\n",
              "      <td>1</td>\n",
              "      <td>2020-06-03T16:30:43.643Z</td>\n",
              "      <td>2020-06-03T16:30:43.643Z</td>\n",
              "      <td>33</td>\n",
              "      <td>southwest-may-2020-schedule</td>\n",
              "      <td>airline</td>\n",
              "    </tr>\n",
              "    <tr>\n",
              "      <th>3</th>\n",
              "      <td>3</td>\n",
              "      <td>Thanks for your reply and the link. It certain...</td>\n",
              "      <td>74781</td>\n",
              "      <td>17519</td>\n",
              "      <td>Seuk</td>\n",
              "      <td>3.0</td>\n",
              "      <td>26739</td>\n",
              "      <td>4</td>\n",
              "      <td>0</td>\n",
              "      <td>2020-06-03T20:16:33.051Z</td>\n",
              "      <td>2020-06-03T20:16:33.051Z</td>\n",
              "      <td>26</td>\n",
              "      <td>southwest-may-2020-schedule</td>\n",
              "      <td>airline</td>\n",
              "    </tr>\n",
              "    <tr>\n",
              "      <th>4</th>\n",
              "      <td>4</td>\n",
              "      <td>Hi everyone! I have my Introductory Flight sch...</td>\n",
              "      <td>70873</td>\n",
              "      <td>17226</td>\n",
              "      <td>amandabearden1</td>\n",
              "      <td>NaN</td>\n",
              "      <td>25527</td>\n",
              "      <td>1</td>\n",
              "      <td>0</td>\n",
              "      <td>2020-02-27T17:29:54.485Z</td>\n",
              "      <td>2020-02-27T17:29:54.485Z</td>\n",
              "      <td>84</td>\n",
              "      <td>starting-lawrenceville-location-june-2020</td>\n",
              "      <td>airline</td>\n",
              "    </tr>\n",
              "  </tbody>\n",
              "</table>\n",
              "</div>"
            ],
            "text/plain": [
              "   Unnamed: 0  ... forum_name\n",
              "0           0  ...    airline\n",
              "1           1  ...    airline\n",
              "2           2  ...    airline\n",
              "3           3  ...    airline\n",
              "4           4  ...    airline\n",
              "\n",
              "[5 rows x 14 columns]"
            ]
          },
          "metadata": {
            "tags": []
          },
          "execution_count": 9
        }
      ]
    },
    {
      "cell_type": "code",
      "metadata": {
        "id": "kPYFrQS0ECKY",
        "colab_type": "code",
        "colab": {
          "base_uri": "https://localhost:8080/",
          "height": 272
        },
        "outputId": "8e3b2466-6990-43b3-a42e-75016bbd4f45"
      },
      "source": [
        "d4.dtypes"
      ],
      "execution_count": 10,
      "outputs": [
        {
          "output_type": "execute_result",
          "data": {
            "text/plain": [
              "Unnamed: 0             int64\n",
              "post_text             object\n",
              "post_id                int64\n",
              "user_id                int64\n",
              "username              object\n",
              "reply_to_post_num    float64\n",
              "topic_id               int64\n",
              "post_num               int64\n",
              "reply_count            int64\n",
              "created at            object\n",
              "updated_at            object\n",
              "num_reads              int64\n",
              "topic_slug            object\n",
              "forum_name            object\n",
              "dtype: object"
            ]
          },
          "metadata": {
            "tags": []
          },
          "execution_count": 10
        }
      ]
    },
    {
      "cell_type": "code",
      "metadata": {
        "id": "mLI_3dmWECKb",
        "colab_type": "code",
        "colab": {
          "base_uri": "https://localhost:8080/",
          "height": 34
        },
        "outputId": "dae2afdb-6e03-4021-a5e7-3945c9f0863d"
      },
      "source": [
        "d4.shape"
      ],
      "execution_count": 11,
      "outputs": [
        {
          "output_type": "execute_result",
          "data": {
            "text/plain": [
              "(36397, 14)"
            ]
          },
          "metadata": {
            "tags": []
          },
          "execution_count": 11
        }
      ]
    },
    {
      "cell_type": "code",
      "metadata": {
        "id": "AqsyQZM_ECKe",
        "colab_type": "code",
        "colab": {}
      },
      "source": [
        "d4.drop(columns = ['Unnamed: 0'], inplace = True)"
      ],
      "execution_count": 12,
      "outputs": []
    },
    {
      "cell_type": "code",
      "metadata": {
        "id": "SeevCacuECKf",
        "colab_type": "code",
        "colab": {}
      },
      "source": [
        "d2.drop(columns = ['Unnamed: 0'], inplace = True)"
      ],
      "execution_count": 13,
      "outputs": []
    },
    {
      "cell_type": "code",
      "metadata": {
        "id": "CDPu36-iECKh",
        "colab_type": "code",
        "colab": {
          "base_uri": "https://localhost:8080/",
          "height": 581
        },
        "outputId": "99756f95-c705-4296-8495-ffc73aa08517"
      },
      "source": [
        "d2.head()"
      ],
      "execution_count": 14,
      "outputs": [
        {
          "output_type": "execute_result",
          "data": {
            "text/html": [
              "<div>\n",
              "<style scoped>\n",
              "    .dataframe tbody tr th:only-of-type {\n",
              "        vertical-align: middle;\n",
              "    }\n",
              "\n",
              "    .dataframe tbody tr th {\n",
              "        vertical-align: top;\n",
              "    }\n",
              "\n",
              "    .dataframe thead th {\n",
              "        text-align: right;\n",
              "    }\n",
              "</style>\n",
              "<table border=\"1\" class=\"dataframe\">\n",
              "  <thead>\n",
              "    <tr style=\"text-align: right;\">\n",
              "      <th></th>\n",
              "      <th>id</th>\n",
              "      <th>username</th>\n",
              "      <th>created_at</th>\n",
              "      <th>cooked</th>\n",
              "      <th>post_number</th>\n",
              "      <th>updated_at</th>\n",
              "      <th>reply_count</th>\n",
              "      <th>reply_to_post_num</th>\n",
              "      <th>reads</th>\n",
              "      <th>topic_id</th>\n",
              "      <th>user_id</th>\n",
              "      <th>topic_slug</th>\n",
              "      <th>forum_name</th>\n",
              "    </tr>\n",
              "  </thead>\n",
              "  <tbody>\n",
              "    <tr>\n",
              "      <th>0</th>\n",
              "      <td>412784</td>\n",
              "      <td>DeesDesigns</td>\n",
              "      <td>2020-06-04T10:03:17.286Z</td>\n",
              "      <td>Im a little confused  not difficult at the mo...</td>\n",
              "      <td>1</td>\n",
              "      <td>2020-06-04T10:03:17.286Z</td>\n",
              "      <td>0</td>\n",
              "      <td>NaN</td>\n",
              "      <td>36</td>\n",
              "      <td>20138</td>\n",
              "      <td>101</td>\n",
              "      <td>when-is-fathers-day-in-the-uk</td>\n",
              "      <td>folksy</td>\n",
              "    </tr>\n",
              "    <tr>\n",
              "      <th>1</th>\n",
              "      <td>412789</td>\n",
              "      <td>leavalleyart</td>\n",
              "      <td>2020-06-04T10:15:56.277Z</td>\n",
              "      <td>I had to look it up too and the date I got wa...</td>\n",
              "      <td>2</td>\n",
              "      <td>2020-06-04T10:15:56.277Z</td>\n",
              "      <td>1</td>\n",
              "      <td>NaN</td>\n",
              "      <td>35</td>\n",
              "      <td>20138</td>\n",
              "      <td>8276</td>\n",
              "      <td>when-is-fathers-day-in-the-uk</td>\n",
              "      <td>folksy</td>\n",
              "    </tr>\n",
              "    <tr>\n",
              "      <th>2</th>\n",
              "      <td>412792</td>\n",
              "      <td>DeesDesigns</td>\n",
              "      <td>2020-06-04T10:22:12.817Z</td>\n",
              "      <td>Maybe its a header that hasnt been updated, j...</td>\n",
              "      <td>3</td>\n",
              "      <td>2020-06-04T10:22:12.817Z</td>\n",
              "      <td>0</td>\n",
              "      <td>2.0</td>\n",
              "      <td>35</td>\n",
              "      <td>20138</td>\n",
              "      <td>101</td>\n",
              "      <td>when-is-fathers-day-in-the-uk</td>\n",
              "      <td>folksy</td>\n",
              "    </tr>\n",
              "    <tr>\n",
              "      <th>3</th>\n",
              "      <td>412802</td>\n",
              "      <td>SashaGarrett</td>\n",
              "      <td>2020-06-04T11:15:53.017Z</td>\n",
              "      <td>I still have last years calendar - it was on ...</td>\n",
              "      <td>4</td>\n",
              "      <td>2020-06-04T11:15:53.017Z</td>\n",
              "      <td>1</td>\n",
              "      <td>NaN</td>\n",
              "      <td>28</td>\n",
              "      <td>20138</td>\n",
              "      <td>421</td>\n",
              "      <td>when-is-fathers-day-in-the-uk</td>\n",
              "      <td>folksy</td>\n",
              "    </tr>\n",
              "    <tr>\n",
              "      <th>4</th>\n",
              "      <td>412803</td>\n",
              "      <td>DeesDesigns</td>\n",
              "      <td>2020-06-04T11:17:55.407Z</td>\n",
              "      <td>Could be  img src  https   sjc5 discourse-cdn...</td>\n",
              "      <td>5</td>\n",
              "      <td>2020-06-04T11:17:55.407Z</td>\n",
              "      <td>0</td>\n",
              "      <td>4.0</td>\n",
              "      <td>27</td>\n",
              "      <td>20138</td>\n",
              "      <td>101</td>\n",
              "      <td>when-is-fathers-day-in-the-uk</td>\n",
              "      <td>folksy</td>\n",
              "    </tr>\n",
              "  </tbody>\n",
              "</table>\n",
              "</div>"
            ],
            "text/plain": [
              "       id      username  ...                     topic_slug forum_name\n",
              "0  412784   DeesDesigns  ...  when-is-fathers-day-in-the-uk     folksy\n",
              "1  412789  leavalleyart  ...  when-is-fathers-day-in-the-uk     folksy\n",
              "2  412792   DeesDesigns  ...  when-is-fathers-day-in-the-uk     folksy\n",
              "3  412802  SashaGarrett  ...  when-is-fathers-day-in-the-uk     folksy\n",
              "4  412803   DeesDesigns  ...  when-is-fathers-day-in-the-uk     folksy\n",
              "\n",
              "[5 rows x 13 columns]"
            ]
          },
          "metadata": {
            "tags": []
          },
          "execution_count": 14
        }
      ]
    },
    {
      "cell_type": "code",
      "metadata": {
        "id": "HHrauwH8ECKk",
        "colab_type": "code",
        "colab": {
          "base_uri": "https://localhost:8080/",
          "height": 530
        },
        "outputId": "03d4fbf4-0278-49e4-c998-e9048c78e301"
      },
      "source": [
        "d4.head()"
      ],
      "execution_count": 15,
      "outputs": [
        {
          "output_type": "execute_result",
          "data": {
            "text/html": [
              "<div>\n",
              "<style scoped>\n",
              "    .dataframe tbody tr th:only-of-type {\n",
              "        vertical-align: middle;\n",
              "    }\n",
              "\n",
              "    .dataframe tbody tr th {\n",
              "        vertical-align: top;\n",
              "    }\n",
              "\n",
              "    .dataframe thead th {\n",
              "        text-align: right;\n",
              "    }\n",
              "</style>\n",
              "<table border=\"1\" class=\"dataframe\">\n",
              "  <thead>\n",
              "    <tr style=\"text-align: right;\">\n",
              "      <th></th>\n",
              "      <th>post_text</th>\n",
              "      <th>post_id</th>\n",
              "      <th>user_id</th>\n",
              "      <th>username</th>\n",
              "      <th>reply_to_post_num</th>\n",
              "      <th>topic_id</th>\n",
              "      <th>post_num</th>\n",
              "      <th>reply_count</th>\n",
              "      <th>created at</th>\n",
              "      <th>updated_at</th>\n",
              "      <th>num_reads</th>\n",
              "      <th>topic_slug</th>\n",
              "      <th>forum_name</th>\n",
              "    </tr>\n",
              "  </thead>\n",
              "  <tbody>\n",
              "    <tr>\n",
              "      <th>0</th>\n",
              "      <td>Hey all - April credited 96 trips (~ 84 hours)...</td>\n",
              "      <td>74622</td>\n",
              "      <td>2954</td>\n",
              "      <td>JLascomb</td>\n",
              "      <td>NaN</td>\n",
              "      <td>26739</td>\n",
              "      <td>1</td>\n",
              "      <td>0</td>\n",
              "      <td>2020-05-29T23:32:09.974Z</td>\n",
              "      <td>2020-05-29T23:32:09.974Z</td>\n",
              "      <td>77</td>\n",
              "      <td>southwest-may-2020-schedule</td>\n",
              "      <td>airline</td>\n",
              "    </tr>\n",
              "    <tr>\n",
              "      <th>1</th>\n",
              "      <td>It’s great to see a rebound, even if it’s smal...</td>\n",
              "      <td>74769</td>\n",
              "      <td>17519</td>\n",
              "      <td>Seuk</td>\n",
              "      <td>NaN</td>\n",
              "      <td>26739</td>\n",
              "      <td>2</td>\n",
              "      <td>1</td>\n",
              "      <td>2020-06-03T13:50:24.022Z</td>\n",
              "      <td>2020-06-03T13:50:56.027Z</td>\n",
              "      <td>36</td>\n",
              "      <td>southwest-may-2020-schedule</td>\n",
              "      <td>airline</td>\n",
              "    </tr>\n",
              "    <tr>\n",
              "      <th>2</th>\n",
              "      <td>This articles takes a look at some of those po...</td>\n",
              "      <td>74773</td>\n",
              "      <td>2954</td>\n",
              "      <td>JLascomb</td>\n",
              "      <td>2.0</td>\n",
              "      <td>26739</td>\n",
              "      <td>3</td>\n",
              "      <td>1</td>\n",
              "      <td>2020-06-03T16:30:43.643Z</td>\n",
              "      <td>2020-06-03T16:30:43.643Z</td>\n",
              "      <td>33</td>\n",
              "      <td>southwest-may-2020-schedule</td>\n",
              "      <td>airline</td>\n",
              "    </tr>\n",
              "    <tr>\n",
              "      <th>3</th>\n",
              "      <td>Thanks for your reply and the link. It certain...</td>\n",
              "      <td>74781</td>\n",
              "      <td>17519</td>\n",
              "      <td>Seuk</td>\n",
              "      <td>3.0</td>\n",
              "      <td>26739</td>\n",
              "      <td>4</td>\n",
              "      <td>0</td>\n",
              "      <td>2020-06-03T20:16:33.051Z</td>\n",
              "      <td>2020-06-03T20:16:33.051Z</td>\n",
              "      <td>26</td>\n",
              "      <td>southwest-may-2020-schedule</td>\n",
              "      <td>airline</td>\n",
              "    </tr>\n",
              "    <tr>\n",
              "      <th>4</th>\n",
              "      <td>Hi everyone! I have my Introductory Flight sch...</td>\n",
              "      <td>70873</td>\n",
              "      <td>17226</td>\n",
              "      <td>amandabearden1</td>\n",
              "      <td>NaN</td>\n",
              "      <td>25527</td>\n",
              "      <td>1</td>\n",
              "      <td>0</td>\n",
              "      <td>2020-02-27T17:29:54.485Z</td>\n",
              "      <td>2020-02-27T17:29:54.485Z</td>\n",
              "      <td>84</td>\n",
              "      <td>starting-lawrenceville-location-june-2020</td>\n",
              "      <td>airline</td>\n",
              "    </tr>\n",
              "  </tbody>\n",
              "</table>\n",
              "</div>"
            ],
            "text/plain": [
              "                                           post_text  ...  forum_name\n",
              "0  Hey all - April credited 96 trips (~ 84 hours)...  ...     airline\n",
              "1  It’s great to see a rebound, even if it’s smal...  ...     airline\n",
              "2  This articles takes a look at some of those po...  ...     airline\n",
              "3  Thanks for your reply and the link. It certain...  ...     airline\n",
              "4  Hi everyone! I have my Introductory Flight sch...  ...     airline\n",
              "\n",
              "[5 rows x 13 columns]"
            ]
          },
          "metadata": {
            "tags": []
          },
          "execution_count": 15
        }
      ]
    },
    {
      "cell_type": "code",
      "metadata": {
        "id": "ixJAurJwECKm",
        "colab_type": "code",
        "colab": {}
      },
      "source": [
        "d2.rename(columns = {'id': 'post_id', 'cooked': 'post_text', 'post_number': 'post_num', 'reads': 'num_reads'}, inplace = True)"
      ],
      "execution_count": 16,
      "outputs": []
    },
    {
      "cell_type": "code",
      "metadata": {
        "id": "XMtFQ9jvECKp",
        "colab_type": "code",
        "colab": {}
      },
      "source": [
        "d1.rename(columns = {'cooked': 'post_text', 'post_number': 'post_num', 'reads': 'num_reads'}, inplace = True)"
      ],
      "execution_count": 17,
      "outputs": []
    },
    {
      "cell_type": "code",
      "metadata": {
        "id": "NvY6cDxwECKr",
        "colab_type": "code",
        "colab": {}
      },
      "source": [
        "d4.rename(columns = {'created at': 'created_at'}, inplace = True)"
      ],
      "execution_count": 18,
      "outputs": []
    },
    {
      "cell_type": "code",
      "metadata": {
        "id": "MC81n2FFECKt",
        "colab_type": "code",
        "colab": {}
      },
      "source": [
        "d3.rename(columns = {\" post_id\": \"post_id\", \" username\":\"username\", \" created_at\":\"created_at\", \" post_num\":\"post_num\", \" updated_at\":\"updated_at\", \" reply_count\":\"reply_count\", \" reply_to_post_num\": \"reply_to_post_num\", \" num_reads\":\"num_reads\", \" topic_id\":\"topic_id\", \" user_id\":\"user_id\", \" topic_slug\":\"topic_slug\", \" forum_name\":\"forum_name\"}, inplace = True)"
      ],
      "execution_count": 19,
      "outputs": []
    },
    {
      "cell_type": "code",
      "metadata": {
        "id": "QGR_Ow9hECKv",
        "colab_type": "code",
        "colab": {}
      },
      "source": [
        "d1['forum_name'] = 'code combat'"
      ],
      "execution_count": 20,
      "outputs": []
    },
    {
      "cell_type": "code",
      "metadata": {
        "id": "zXaTS9kGECKw",
        "colab_type": "code",
        "colab": {
          "base_uri": "https://localhost:8080/",
          "height": 255
        },
        "outputId": "ee3adb01-c299-46ac-ae2b-72bfaf619f88"
      },
      "source": [
        "d1.dtypes"
      ],
      "execution_count": 21,
      "outputs": [
        {
          "output_type": "execute_result",
          "data": {
            "text/plain": [
              "post_id               object\n",
              "username              object\n",
              "created_at            object\n",
              "post_text             object\n",
              "post_num             float64\n",
              "updated_at            object\n",
              "reply_count          float64\n",
              "reply_to_post_num    float64\n",
              "num_reads             object\n",
              "topic_id             float64\n",
              "user_id              float64\n",
              "topic_slug            object\n",
              "forum_name            object\n",
              "dtype: object"
            ]
          },
          "metadata": {
            "tags": []
          },
          "execution_count": 21
        }
      ]
    },
    {
      "cell_type": "code",
      "metadata": {
        "id": "ukxGy6cCECK0",
        "colab_type": "code",
        "colab": {
          "base_uri": "https://localhost:8080/",
          "height": 255
        },
        "outputId": "cc803fc9-8264-4b8c-d31c-540cf758d7b5"
      },
      "source": [
        "d2.dtypes"
      ],
      "execution_count": 22,
      "outputs": [
        {
          "output_type": "execute_result",
          "data": {
            "text/plain": [
              "post_id                int64\n",
              "username              object\n",
              "created_at            object\n",
              "post_text             object\n",
              "post_num               int64\n",
              "updated_at            object\n",
              "reply_count            int64\n",
              "reply_to_post_num    float64\n",
              "num_reads              int64\n",
              "topic_id               int64\n",
              "user_id                int64\n",
              "topic_slug            object\n",
              "forum_name            object\n",
              "dtype: object"
            ]
          },
          "metadata": {
            "tags": []
          },
          "execution_count": 22
        }
      ]
    },
    {
      "cell_type": "code",
      "metadata": {
        "id": "4-7eiiQ9ECK3",
        "colab_type": "code",
        "colab": {
          "base_uri": "https://localhost:8080/",
          "height": 255
        },
        "outputId": "89241024-ec39-49f5-9c2e-b16926b29ed1"
      },
      "source": [
        "d3.dtypes"
      ],
      "execution_count": 23,
      "outputs": [
        {
          "output_type": "execute_result",
          "data": {
            "text/plain": [
              "post_text             object\n",
              "post_id                int64\n",
              "user_id                int64\n",
              "username              object\n",
              "reply_to_post_num    float64\n",
              "topic_id               int64\n",
              "post_num               int64\n",
              "reply_count            int64\n",
              "created_at            object\n",
              "updated_at            object\n",
              "num_reads              int64\n",
              "topic_slug            object\n",
              "forum_name            object\n",
              "dtype: object"
            ]
          },
          "metadata": {
            "tags": []
          },
          "execution_count": 23
        }
      ]
    },
    {
      "cell_type": "code",
      "metadata": {
        "id": "VwQeC6MPECK5",
        "colab_type": "code",
        "colab": {
          "base_uri": "https://localhost:8080/",
          "height": 255
        },
        "outputId": "67211172-f1ff-4d96-bf42-c4e1541ecda5"
      },
      "source": [
        "d4.dtypes"
      ],
      "execution_count": 24,
      "outputs": [
        {
          "output_type": "execute_result",
          "data": {
            "text/plain": [
              "post_text             object\n",
              "post_id                int64\n",
              "user_id                int64\n",
              "username              object\n",
              "reply_to_post_num    float64\n",
              "topic_id               int64\n",
              "post_num               int64\n",
              "reply_count            int64\n",
              "created_at            object\n",
              "updated_at            object\n",
              "num_reads              int64\n",
              "topic_slug            object\n",
              "forum_name            object\n",
              "dtype: object"
            ]
          },
          "metadata": {
            "tags": []
          },
          "execution_count": 24
        }
      ]
    },
    {
      "cell_type": "code",
      "metadata": {
        "id": "QbxF2t4ZECK8",
        "colab_type": "code",
        "colab": {}
      },
      "source": [
        "column_names = [\"post_id\", \"username\", \"created_at\", \"post_text\", \"post_num\", \"updated_at\", \"reply_count\", \"reply_to_post_num\", \"num_reads\", \"topic_id\", \"user_id\", \"topic_slug\", \"forum_name\"]"
      ],
      "execution_count": 25,
      "outputs": []
    },
    {
      "cell_type": "code",
      "metadata": {
        "id": "Lha0C8pBECK-",
        "colab_type": "code",
        "colab": {}
      },
      "source": [
        "d5 = d3.reindex(columns = column_names)"
      ],
      "execution_count": 26,
      "outputs": []
    },
    {
      "cell_type": "code",
      "metadata": {
        "id": "--3ZBiseECK_",
        "colab_type": "code",
        "colab": {}
      },
      "source": [
        "d6 = d4.reindex(columns = column_names)"
      ],
      "execution_count": 27,
      "outputs": []
    },
    {
      "cell_type": "code",
      "metadata": {
        "id": "8tdOK3T9ECLE",
        "colab_type": "code",
        "colab": {
          "base_uri": "https://localhost:8080/",
          "height": 530
        },
        "outputId": "5f4534c2-283b-4081-868e-caa51df97b4e"
      },
      "source": [
        "d5.head()"
      ],
      "execution_count": 28,
      "outputs": [
        {
          "output_type": "execute_result",
          "data": {
            "text/html": [
              "<div>\n",
              "<style scoped>\n",
              "    .dataframe tbody tr th:only-of-type {\n",
              "        vertical-align: middle;\n",
              "    }\n",
              "\n",
              "    .dataframe tbody tr th {\n",
              "        vertical-align: top;\n",
              "    }\n",
              "\n",
              "    .dataframe thead th {\n",
              "        text-align: right;\n",
              "    }\n",
              "</style>\n",
              "<table border=\"1\" class=\"dataframe\">\n",
              "  <thead>\n",
              "    <tr style=\"text-align: right;\">\n",
              "      <th></th>\n",
              "      <th>post_id</th>\n",
              "      <th>username</th>\n",
              "      <th>created_at</th>\n",
              "      <th>post_text</th>\n",
              "      <th>post_num</th>\n",
              "      <th>updated_at</th>\n",
              "      <th>reply_count</th>\n",
              "      <th>reply_to_post_num</th>\n",
              "      <th>num_reads</th>\n",
              "      <th>topic_id</th>\n",
              "      <th>user_id</th>\n",
              "      <th>topic_slug</th>\n",
              "      <th>forum_name</th>\n",
              "    </tr>\n",
              "  </thead>\n",
              "  <tbody>\n",
              "    <tr>\n",
              "      <th>0</th>\n",
              "      <td>25656</td>\n",
              "      <td>Justin_Keikhlasan</td>\n",
              "      <td>2020-06-03T17:57:25.143Z</td>\n",
              "      <td>Purchased the trial pack, and used all flavors...</td>\n",
              "      <td>1</td>\n",
              "      <td>2020-06-08T20:27:53.011Z</td>\n",
              "      <td>0</td>\n",
              "      <td>NaN</td>\n",
              "      <td>18</td>\n",
              "      <td>8815</td>\n",
              "      <td>4859</td>\n",
              "      <td>flavor-booster-ratings</td>\n",
              "      <td>huel</td>\n",
              "    </tr>\n",
              "    <tr>\n",
              "      <th>1</th>\n",
              "      <td>25662</td>\n",
              "      <td>matt009</td>\n",
              "      <td>2020-06-04T03:20:52.395Z</td>\n",
              "      <td>i like mocha the best but it fks wth my stoma...</td>\n",
              "      <td>2</td>\n",
              "      <td>2020-06-04T03:20:52.395Z</td>\n",
              "      <td>1</td>\n",
              "      <td>NaN</td>\n",
              "      <td>15</td>\n",
              "      <td>8815</td>\n",
              "      <td>4856</td>\n",
              "      <td>flavor-booster-ratings</td>\n",
              "      <td>huel</td>\n",
              "    </tr>\n",
              "    <tr>\n",
              "      <th>2</th>\n",
              "      <td>25677</td>\n",
              "      <td>Tom</td>\n",
              "      <td>2020-06-04T17:03:37.547Z</td>\n",
              "      <td>Interesting! Here are my ratings (I haven’t t...</td>\n",
              "      <td>3</td>\n",
              "      <td>2020-06-04T17:04:06.818Z</td>\n",
              "      <td>2</td>\n",
              "      <td>2.0</td>\n",
              "      <td>14</td>\n",
              "      <td>8815</td>\n",
              "      <td>4635</td>\n",
              "      <td>flavor-booster-ratings</td>\n",
              "      <td>huel</td>\n",
              "    </tr>\n",
              "    <tr>\n",
              "      <th>3</th>\n",
              "      <td>25678</td>\n",
              "      <td>matt009</td>\n",
              "      <td>2020-06-04T18:19:22.386Z</td>\n",
              "      <td>i tried choc cherry only one i didnt like</td>\n",
              "      <td>4</td>\n",
              "      <td>2020-06-04T18:19:22.386Z</td>\n",
              "      <td>0</td>\n",
              "      <td>3.0</td>\n",
              "      <td>14</td>\n",
              "      <td>8815</td>\n",
              "      <td>4856</td>\n",
              "      <td>flavor-booster-ratings</td>\n",
              "      <td>huel</td>\n",
              "    </tr>\n",
              "    <tr>\n",
              "      <th>4</th>\n",
              "      <td>25679</td>\n",
              "      <td>ericb</td>\n",
              "      <td>2020-06-04T19:57:36.200Z</td>\n",
              "      <td>**Mint Chocolate** \\- 5/5. Like [@Tom](/u/to...</td>\n",
              "      <td>5</td>\n",
              "      <td>2020-06-04T20:01:21.397Z</td>\n",
              "      <td>1</td>\n",
              "      <td>NaN</td>\n",
              "      <td>13</td>\n",
              "      <td>8815</td>\n",
              "      <td>4073</td>\n",
              "      <td>flavor-booster-ratings</td>\n",
              "      <td>huel</td>\n",
              "    </tr>\n",
              "  </tbody>\n",
              "</table>\n",
              "</div>"
            ],
            "text/plain": [
              "   post_id           username  ...              topic_slug forum_name\n",
              "0    25656  Justin_Keikhlasan  ...  flavor-booster-ratings       huel\n",
              "1    25662            matt009  ...  flavor-booster-ratings       huel\n",
              "2    25677                Tom  ...  flavor-booster-ratings       huel\n",
              "3    25678            matt009  ...  flavor-booster-ratings       huel\n",
              "4    25679              ericb  ...  flavor-booster-ratings       huel\n",
              "\n",
              "[5 rows x 13 columns]"
            ]
          },
          "metadata": {
            "tags": []
          },
          "execution_count": 28
        }
      ]
    },
    {
      "cell_type": "code",
      "metadata": {
        "id": "RbZVLv0eECLC",
        "colab_type": "code",
        "colab": {
          "base_uri": "https://localhost:8080/",
          "height": 530
        },
        "outputId": "99ead880-e865-4683-f0fa-d45b95a6d76c"
      },
      "source": [
        "d6.head()"
      ],
      "execution_count": 29,
      "outputs": [
        {
          "output_type": "execute_result",
          "data": {
            "text/html": [
              "<div>\n",
              "<style scoped>\n",
              "    .dataframe tbody tr th:only-of-type {\n",
              "        vertical-align: middle;\n",
              "    }\n",
              "\n",
              "    .dataframe tbody tr th {\n",
              "        vertical-align: top;\n",
              "    }\n",
              "\n",
              "    .dataframe thead th {\n",
              "        text-align: right;\n",
              "    }\n",
              "</style>\n",
              "<table border=\"1\" class=\"dataframe\">\n",
              "  <thead>\n",
              "    <tr style=\"text-align: right;\">\n",
              "      <th></th>\n",
              "      <th>post_id</th>\n",
              "      <th>username</th>\n",
              "      <th>created_at</th>\n",
              "      <th>post_text</th>\n",
              "      <th>post_num</th>\n",
              "      <th>updated_at</th>\n",
              "      <th>reply_count</th>\n",
              "      <th>reply_to_post_num</th>\n",
              "      <th>num_reads</th>\n",
              "      <th>topic_id</th>\n",
              "      <th>user_id</th>\n",
              "      <th>topic_slug</th>\n",
              "      <th>forum_name</th>\n",
              "    </tr>\n",
              "  </thead>\n",
              "  <tbody>\n",
              "    <tr>\n",
              "      <th>0</th>\n",
              "      <td>74622</td>\n",
              "      <td>JLascomb</td>\n",
              "      <td>2020-05-29T23:32:09.974Z</td>\n",
              "      <td>Hey all - April credited 96 trips (~ 84 hours)...</td>\n",
              "      <td>1</td>\n",
              "      <td>2020-05-29T23:32:09.974Z</td>\n",
              "      <td>0</td>\n",
              "      <td>NaN</td>\n",
              "      <td>77</td>\n",
              "      <td>26739</td>\n",
              "      <td>2954</td>\n",
              "      <td>southwest-may-2020-schedule</td>\n",
              "      <td>airline</td>\n",
              "    </tr>\n",
              "    <tr>\n",
              "      <th>1</th>\n",
              "      <td>74769</td>\n",
              "      <td>Seuk</td>\n",
              "      <td>2020-06-03T13:50:24.022Z</td>\n",
              "      <td>It’s great to see a rebound, even if it’s smal...</td>\n",
              "      <td>2</td>\n",
              "      <td>2020-06-03T13:50:56.027Z</td>\n",
              "      <td>1</td>\n",
              "      <td>NaN</td>\n",
              "      <td>36</td>\n",
              "      <td>26739</td>\n",
              "      <td>17519</td>\n",
              "      <td>southwest-may-2020-schedule</td>\n",
              "      <td>airline</td>\n",
              "    </tr>\n",
              "    <tr>\n",
              "      <th>2</th>\n",
              "      <td>74773</td>\n",
              "      <td>JLascomb</td>\n",
              "      <td>2020-06-03T16:30:43.643Z</td>\n",
              "      <td>This articles takes a look at some of those po...</td>\n",
              "      <td>3</td>\n",
              "      <td>2020-06-03T16:30:43.643Z</td>\n",
              "      <td>1</td>\n",
              "      <td>2.0</td>\n",
              "      <td>33</td>\n",
              "      <td>26739</td>\n",
              "      <td>2954</td>\n",
              "      <td>southwest-may-2020-schedule</td>\n",
              "      <td>airline</td>\n",
              "    </tr>\n",
              "    <tr>\n",
              "      <th>3</th>\n",
              "      <td>74781</td>\n",
              "      <td>Seuk</td>\n",
              "      <td>2020-06-03T20:16:33.051Z</td>\n",
              "      <td>Thanks for your reply and the link. It certain...</td>\n",
              "      <td>4</td>\n",
              "      <td>2020-06-03T20:16:33.051Z</td>\n",
              "      <td>0</td>\n",
              "      <td>3.0</td>\n",
              "      <td>26</td>\n",
              "      <td>26739</td>\n",
              "      <td>17519</td>\n",
              "      <td>southwest-may-2020-schedule</td>\n",
              "      <td>airline</td>\n",
              "    </tr>\n",
              "    <tr>\n",
              "      <th>4</th>\n",
              "      <td>70873</td>\n",
              "      <td>amandabearden1</td>\n",
              "      <td>2020-02-27T17:29:54.485Z</td>\n",
              "      <td>Hi everyone! I have my Introductory Flight sch...</td>\n",
              "      <td>1</td>\n",
              "      <td>2020-02-27T17:29:54.485Z</td>\n",
              "      <td>0</td>\n",
              "      <td>NaN</td>\n",
              "      <td>84</td>\n",
              "      <td>25527</td>\n",
              "      <td>17226</td>\n",
              "      <td>starting-lawrenceville-location-june-2020</td>\n",
              "      <td>airline</td>\n",
              "    </tr>\n",
              "  </tbody>\n",
              "</table>\n",
              "</div>"
            ],
            "text/plain": [
              "   post_id  ... forum_name\n",
              "0    74622  ...    airline\n",
              "1    74769  ...    airline\n",
              "2    74773  ...    airline\n",
              "3    74781  ...    airline\n",
              "4    70873  ...    airline\n",
              "\n",
              "[5 rows x 13 columns]"
            ]
          },
          "metadata": {
            "tags": []
          },
          "execution_count": 29
        }
      ]
    },
    {
      "cell_type": "code",
      "metadata": {
        "id": "hFfC4b-DECLG",
        "colab_type": "code",
        "colab": {}
      },
      "source": [
        "# d6.created_at.isnull().value_counts()"
      ],
      "execution_count": 30,
      "outputs": []
    },
    {
      "cell_type": "code",
      "metadata": {
        "id": "bahPglorECLI",
        "colab_type": "code",
        "colab": {}
      },
      "source": [
        "data = pd.concat([d1, d2, d5, d6], ignore_index=True)"
      ],
      "execution_count": 31,
      "outputs": []
    },
    {
      "cell_type": "code",
      "metadata": {
        "id": "mPOC3E9bECLK",
        "colab_type": "code",
        "colab": {
          "base_uri": "https://localhost:8080/",
          "height": 598
        },
        "outputId": "7b6a861e-7052-46a2-acec-d0080f9769cb"
      },
      "source": [
        "data.tail()"
      ],
      "execution_count": 32,
      "outputs": [
        {
          "output_type": "execute_result",
          "data": {
            "text/html": [
              "<div>\n",
              "<style scoped>\n",
              "    .dataframe tbody tr th:only-of-type {\n",
              "        vertical-align: middle;\n",
              "    }\n",
              "\n",
              "    .dataframe tbody tr th {\n",
              "        vertical-align: top;\n",
              "    }\n",
              "\n",
              "    .dataframe thead th {\n",
              "        text-align: right;\n",
              "    }\n",
              "</style>\n",
              "<table border=\"1\" class=\"dataframe\">\n",
              "  <thead>\n",
              "    <tr style=\"text-align: right;\">\n",
              "      <th></th>\n",
              "      <th>post_id</th>\n",
              "      <th>username</th>\n",
              "      <th>created_at</th>\n",
              "      <th>post_text</th>\n",
              "      <th>post_num</th>\n",
              "      <th>updated_at</th>\n",
              "      <th>reply_count</th>\n",
              "      <th>reply_to_post_num</th>\n",
              "      <th>num_reads</th>\n",
              "      <th>topic_id</th>\n",
              "      <th>user_id</th>\n",
              "      <th>topic_slug</th>\n",
              "      <th>forum_name</th>\n",
              "    </tr>\n",
              "  </thead>\n",
              "  <tbody>\n",
              "    <tr>\n",
              "      <th>145625</th>\n",
              "      <td>135</td>\n",
              "      <td>matthewpauldean</td>\n",
              "      <td>2016-06-20T00:49:53.703Z</td>\n",
              "      <td>Huh, thank you very much that is a good point.</td>\n",
              "      <td>4.0</td>\n",
              "      <td>2016-06-20T00:49:53.703Z</td>\n",
              "      <td>1.0</td>\n",
              "      <td>NaN</td>\n",
              "      <td>122</td>\n",
              "      <td>76.0</td>\n",
              "      <td>27.0</td>\n",
              "      <td>places-of-schooling</td>\n",
              "      <td>airline</td>\n",
              "    </tr>\n",
              "    <tr>\n",
              "      <th>145626</th>\n",
              "      <td>138</td>\n",
              "      <td>Chris</td>\n",
              "      <td>2016-06-20T01:51:17.669Z</td>\n",
              "      <td>Any time.  Keep posting your questions as you ...</td>\n",
              "      <td>5.0</td>\n",
              "      <td>2016-06-20T01:51:17.669Z</td>\n",
              "      <td>0.0</td>\n",
              "      <td>4.0</td>\n",
              "      <td>119</td>\n",
              "      <td>76.0</td>\n",
              "      <td>3.0</td>\n",
              "      <td>places-of-schooling</td>\n",
              "      <td>airline</td>\n",
              "    </tr>\n",
              "    <tr>\n",
              "      <th>145627</th>\n",
              "      <td>130</td>\n",
              "      <td>Chris</td>\n",
              "      <td>2016-06-19T22:07:07.961Z</td>\n",
              "      <td>Off EWR-PHX PHX-IAH, IAH-BOS All day in Bosto...</td>\n",
              "      <td>1.0</td>\n",
              "      <td>2016-06-19T22:07:07.961Z</td>\n",
              "      <td>0.0</td>\n",
              "      <td>NaN</td>\n",
              "      <td>310</td>\n",
              "      <td>85.0</td>\n",
              "      <td>3.0</td>\n",
              "      <td>june-2016-schedule</td>\n",
              "      <td>airline</td>\n",
              "    </tr>\n",
              "    <tr>\n",
              "      <th>145628</th>\n",
              "      <td>51</td>\n",
              "      <td>Adam</td>\n",
              "      <td>2016-05-10T05:36:52.880Z</td>\n",
              "      <td>I actually hate that term but it seems to be v...</td>\n",
              "      <td>1.0</td>\n",
              "      <td>2016-05-11T02:49:01.289Z</td>\n",
              "      <td>0.0</td>\n",
              "      <td>NaN</td>\n",
              "      <td>159</td>\n",
              "      <td>36.0</td>\n",
              "      <td>9.0</td>\n",
              "      <td>foodie-i-guess</td>\n",
              "      <td>airline</td>\n",
              "    </tr>\n",
              "    <tr>\n",
              "      <th>145629</th>\n",
              "      <td>48</td>\n",
              "      <td>Chris</td>\n",
              "      <td>2016-05-09T21:36:10.357Z</td>\n",
              "      <td>In September I had 16 days off and 97 hours of...</td>\n",
              "      <td>1.0</td>\n",
              "      <td>2016-05-09T21:36:10.357Z</td>\n",
              "      <td>0.0</td>\n",
              "      <td>NaN</td>\n",
              "      <td>331</td>\n",
              "      <td>33.0</td>\n",
              "      <td>3.0</td>\n",
              "      <td>april-2016-schedule-chris</td>\n",
              "      <td>airline</td>\n",
              "    </tr>\n",
              "  </tbody>\n",
              "</table>\n",
              "</div>"
            ],
            "text/plain": [
              "       post_id         username  ...                 topic_slug forum_name\n",
              "145625     135  matthewpauldean  ...        places-of-schooling    airline\n",
              "145626     138            Chris  ...        places-of-schooling    airline\n",
              "145627     130            Chris  ...         june-2016-schedule    airline\n",
              "145628      51             Adam  ...             foodie-i-guess    airline\n",
              "145629      48            Chris  ...  april-2016-schedule-chris    airline\n",
              "\n",
              "[5 rows x 13 columns]"
            ]
          },
          "metadata": {
            "tags": []
          },
          "execution_count": 32
        }
      ]
    },
    {
      "cell_type": "code",
      "metadata": {
        "id": "s3aj3BQoECLM",
        "colab_type": "code",
        "colab": {
          "base_uri": "https://localhost:8080/",
          "height": 34
        },
        "outputId": "8bb8f0c2-a116-4d89-e1cf-05aee648617b"
      },
      "source": [
        "data.shape"
      ],
      "execution_count": 33,
      "outputs": [
        {
          "output_type": "execute_result",
          "data": {
            "text/plain": [
              "(145630, 13)"
            ]
          },
          "metadata": {
            "tags": []
          },
          "execution_count": 33
        }
      ]
    },
    {
      "cell_type": "code",
      "metadata": {
        "id": "7JKcDpJ1ECLO",
        "colab_type": "code",
        "colab": {}
      },
      "source": [
        "# data.to_csv('combined_dataset.csv')"
      ],
      "execution_count": 34,
      "outputs": []
    },
    {
      "cell_type": "code",
      "metadata": {
        "id": "Ej9bAtHzECLQ",
        "colab_type": "code",
        "colab": {
          "base_uri": "https://localhost:8080/",
          "height": 255
        },
        "outputId": "73d78ef8-d76e-4bb1-9685-bf4270623e6c"
      },
      "source": [
        "data.isnull().sum()"
      ],
      "execution_count": 35,
      "outputs": [
        {
          "output_type": "execute_result",
          "data": {
            "text/plain": [
              "post_id                  0\n",
              "username                 0\n",
              "created_at               0\n",
              "post_text              221\n",
              "post_num                 0\n",
              "updated_at               0\n",
              "reply_count              0\n",
              "reply_to_post_num    69631\n",
              "num_reads                0\n",
              "topic_id                 0\n",
              "user_id                  0\n",
              "topic_slug               0\n",
              "forum_name               0\n",
              "dtype: int64"
            ]
          },
          "metadata": {
            "tags": []
          },
          "execution_count": 35
        }
      ]
    },
    {
      "cell_type": "code",
      "metadata": {
        "id": "7h_rTV7dECLS",
        "colab_type": "code",
        "colab": {}
      },
      "source": [
        "data.dropna(subset = ['post_text'], inplace = True)"
      ],
      "execution_count": 36,
      "outputs": []
    },
    {
      "cell_type": "code",
      "metadata": {
        "id": "IWQ4MjizECLT",
        "colab_type": "code",
        "colab": {}
      },
      "source": [
        "data.fillna(0, inplace = True)"
      ],
      "execution_count": 37,
      "outputs": []
    },
    {
      "cell_type": "code",
      "metadata": {
        "id": "70A89_woECLV",
        "colab_type": "code",
        "colab": {}
      },
      "source": [
        "data['post_text'] = data['post_text'].str.replace('\\n', ' ')"
      ],
      "execution_count": 38,
      "outputs": []
    },
    {
      "cell_type": "code",
      "metadata": {
        "id": "xNP4k_kcECLX",
        "colab_type": "code",
        "colab": {}
      },
      "source": [
        "data = data.drop_duplicates()"
      ],
      "execution_count": 39,
      "outputs": []
    },
    {
      "cell_type": "code",
      "metadata": {
        "id": "rNtcmbT8FSna",
        "colab_type": "code",
        "colab": {
          "base_uri": "https://localhost:8080/",
          "height": 34
        },
        "outputId": "889a0d9f-5fb6-4ba0-fc33-438639a2a209"
      },
      "source": [
        "import tensorflow as tf\n",
        "\n",
        "# Get the GPU device name.\n",
        "device_name = tf.test.gpu_device_name()\n",
        "\n",
        "# The device name should look like the following:\n",
        "if device_name == '/device:GPU:0':\n",
        "    print('Found GPU at: {}'.format(device_name))\n",
        "else:\n",
        "    raise SystemError('GPU device not found')"
      ],
      "execution_count": 40,
      "outputs": [
        {
          "output_type": "stream",
          "text": [
            "Found GPU at: /device:GPU:0\n"
          ],
          "name": "stdout"
        }
      ]
    },
    {
      "cell_type": "code",
      "metadata": {
        "id": "JSnWo88mFW2e",
        "colab_type": "code",
        "colab": {
          "base_uri": "https://localhost:8080/",
          "height": 51
        },
        "outputId": "4a1d66cf-aeb7-4900-d185-98ca02585032"
      },
      "source": [
        "import torch\n",
        "\n",
        "# If there's a GPU available...\n",
        "if torch.cuda.is_available():    \n",
        "\n",
        "    # Tell PyTorch to use the GPU.    \n",
        "    device = torch.device(\"cuda\")\n",
        "\n",
        "    print('There are %d GPU(s) available.' % torch.cuda.device_count())\n",
        "\n",
        "    print('We will use the GPU:', torch.cuda.get_device_name(0))\n",
        "\n",
        "# If not...\n",
        "else:\n",
        "    print('No GPU available, using the CPU instead.')\n",
        "    device = torch.device(\"cpu\")"
      ],
      "execution_count": 41,
      "outputs": [
        {
          "output_type": "stream",
          "text": [
            "There are 1 GPU(s) available.\n",
            "We will use the GPU: Tesla K80\n"
          ],
          "name": "stdout"
        }
      ]
    },
    {
      "cell_type": "code",
      "metadata": {
        "id": "y7YkoswKECLY",
        "colab_type": "code",
        "colab": {
          "base_uri": "https://localhost:8080/",
          "height": 700
        },
        "outputId": "69dbcc2d-8362-4b93-a739-846d043ceefd"
      },
      "source": [
        "!pip install transformers gspread gspread-dataframe"
      ],
      "execution_count": 42,
      "outputs": [
        {
          "output_type": "stream",
          "text": [
            "Collecting transformers\n",
            "\u001b[?25l  Downloading https://files.pythonhosted.org/packages/48/35/ad2c5b1b8f99feaaf9d7cdadaeef261f098c6e1a6a2935d4d07662a6b780/transformers-2.11.0-py3-none-any.whl (674kB)\n",
            "\u001b[K     |████████████████████████████████| 675kB 2.7MB/s \n",
            "\u001b[?25hRequirement already satisfied: gspread in /usr/local/lib/python3.6/dist-packages (3.0.1)\n",
            "Requirement already satisfied: gspread-dataframe in /usr/local/lib/python3.6/dist-packages (3.0.7)\n",
            "Requirement already satisfied: dataclasses; python_version < \"3.7\" in /usr/local/lib/python3.6/dist-packages (from transformers) (0.7)\n",
            "Collecting sacremoses\n",
            "\u001b[?25l  Downloading https://files.pythonhosted.org/packages/7d/34/09d19aff26edcc8eb2a01bed8e98f13a1537005d31e95233fd48216eed10/sacremoses-0.0.43.tar.gz (883kB)\n",
            "\u001b[K     |████████████████████████████████| 890kB 9.4MB/s \n",
            "\u001b[?25hCollecting tokenizers==0.7.0\n",
            "\u001b[?25l  Downloading https://files.pythonhosted.org/packages/14/e5/a26eb4716523808bb0a799fcfdceb6ebf77a18169d9591b2f46a9adb87d9/tokenizers-0.7.0-cp36-cp36m-manylinux1_x86_64.whl (3.8MB)\n",
            "\u001b[K     |████████████████████████████████| 3.8MB 16.4MB/s \n",
            "\u001b[?25hRequirement already satisfied: numpy in /usr/local/lib/python3.6/dist-packages (from transformers) (1.18.5)\n",
            "Requirement already satisfied: regex!=2019.12.17 in /usr/local/lib/python3.6/dist-packages (from transformers) (2019.12.20)\n",
            "Requirement already satisfied: filelock in /usr/local/lib/python3.6/dist-packages (from transformers) (3.0.12)\n",
            "Requirement already satisfied: tqdm>=4.27 in /usr/local/lib/python3.6/dist-packages (from transformers) (4.41.1)\n",
            "Requirement already satisfied: requests in /usr/local/lib/python3.6/dist-packages (from transformers) (2.23.0)\n",
            "Requirement already satisfied: packaging in /usr/local/lib/python3.6/dist-packages (from transformers) (20.4)\n",
            "Collecting sentencepiece\n",
            "\u001b[?25l  Downloading https://files.pythonhosted.org/packages/d4/a4/d0a884c4300004a78cca907a6ff9a5e9fe4f090f5d95ab341c53d28cbc58/sentencepiece-0.1.91-cp36-cp36m-manylinux1_x86_64.whl (1.1MB)\n",
            "\u001b[K     |████████████████████████████████| 1.1MB 16.8MB/s \n",
            "\u001b[?25hRequirement already satisfied: pandas>=0.14.0 in /usr/local/lib/python3.6/dist-packages (from gspread-dataframe) (1.0.4)\n",
            "Requirement already satisfied: six in /usr/local/lib/python3.6/dist-packages (from sacremoses->transformers) (1.12.0)\n",
            "Requirement already satisfied: click in /usr/local/lib/python3.6/dist-packages (from sacremoses->transformers) (7.1.2)\n",
            "Requirement already satisfied: joblib in /usr/local/lib/python3.6/dist-packages (from sacremoses->transformers) (0.15.1)\n",
            "Requirement already satisfied: idna<3,>=2.5 in /usr/local/lib/python3.6/dist-packages (from requests->transformers) (2.9)\n",
            "Requirement already satisfied: chardet<4,>=3.0.2 in /usr/local/lib/python3.6/dist-packages (from requests->transformers) (3.0.4)\n",
            "Requirement already satisfied: urllib3!=1.25.0,!=1.25.1,<1.26,>=1.21.1 in /usr/local/lib/python3.6/dist-packages (from requests->transformers) (1.24.3)\n",
            "Requirement already satisfied: certifi>=2017.4.17 in /usr/local/lib/python3.6/dist-packages (from requests->transformers) (2020.4.5.2)\n",
            "Requirement already satisfied: pyparsing>=2.0.2 in /usr/local/lib/python3.6/dist-packages (from packaging->transformers) (2.4.7)\n",
            "Requirement already satisfied: python-dateutil>=2.6.1 in /usr/local/lib/python3.6/dist-packages (from pandas>=0.14.0->gspread-dataframe) (2.8.1)\n",
            "Requirement already satisfied: pytz>=2017.2 in /usr/local/lib/python3.6/dist-packages (from pandas>=0.14.0->gspread-dataframe) (2018.9)\n",
            "Building wheels for collected packages: sacremoses\n",
            "  Building wheel for sacremoses (setup.py) ... \u001b[?25l\u001b[?25hdone\n",
            "  Created wheel for sacremoses: filename=sacremoses-0.0.43-cp36-none-any.whl size=893260 sha256=26e817d613dd34ddeb0fc2210931e3a11bc7f1b83ee73657309b84995f6d47e3\n",
            "  Stored in directory: /root/.cache/pip/wheels/29/3c/fd/7ce5c3f0666dab31a50123635e6fb5e19ceb42ce38d4e58f45\n",
            "Successfully built sacremoses\n",
            "Installing collected packages: sacremoses, tokenizers, sentencepiece, transformers\n",
            "Successfully installed sacremoses-0.0.43 sentencepiece-0.1.91 tokenizers-0.7.0 transformers-2.11.0\n"
          ],
          "name": "stdout"
        }
      ]
    },
    {
      "cell_type": "code",
      "metadata": {
        "id": "m8JOnMd8ECLb",
        "colab_type": "code",
        "colab": {
          "base_uri": "https://localhost:8080/",
          "height": 253,
          "referenced_widgets": [
            "8f7814318f5147e383c062f6bef4c49b",
            "f54b7e519d7d413a8df09bd3e0b607cd",
            "1f9711bc699b4f93afda34e2684e06ec",
            "d30cd02ae27042dd9aa1bd1e070fc00b",
            "ebc00f0e0b2b40adbdd2a50005e480a6",
            "dacbb29f78f74429b56ce5be4b04b145",
            "6f694339d1c3442da8d8ab0cbd026527",
            "6a66fde4049d4473819cae6227938fa6"
          ]
        },
        "outputId": "8bae0987-5be7-4187-e24a-fe464662354b"
      },
      "source": [
        "from transformers import DistilBertTokenizer\n",
        "\n",
        "pretrained_weights = 'distilbert-base-uncased'\n",
        "\n",
        "# For DistilBERT:\n",
        "tokenizer_class = DistilBertTokenizer\n",
        "\n",
        "# Load pretrained tokenizer\n",
        "tokenizer = tokenizer_class.from_pretrained(pretrained_weights)\n",
        "\n",
        "# Sample df\n",
        "data[['post_text', 'forum_name']].sample(5)"
      ],
      "execution_count": 43,
      "outputs": [
        {
          "output_type": "display_data",
          "data": {
            "application/vnd.jupyter.widget-view+json": {
              "model_id": "8f7814318f5147e383c062f6bef4c49b",
              "version_minor": 0,
              "version_major": 2
            },
            "text/plain": [
              "HBox(children=(FloatProgress(value=0.0, description='Downloading', max=231508.0, style=ProgressStyle(descripti…"
            ]
          },
          "metadata": {
            "tags": []
          }
        },
        {
          "output_type": "stream",
          "text": [
            "\n"
          ],
          "name": "stdout"
        },
        {
          "output_type": "execute_result",
          "data": {
            "text/html": [
              "<div>\n",
              "<style scoped>\n",
              "    .dataframe tbody tr th:only-of-type {\n",
              "        vertical-align: middle;\n",
              "    }\n",
              "\n",
              "    .dataframe tbody tr th {\n",
              "        vertical-align: top;\n",
              "    }\n",
              "\n",
              "    .dataframe thead th {\n",
              "        text-align: right;\n",
              "    }\n",
              "</style>\n",
              "<table border=\"1\" class=\"dataframe\">\n",
              "  <thead>\n",
              "    <tr style=\"text-align: right;\">\n",
              "      <th></th>\n",
              "      <th>post_text</th>\n",
              "      <th>forum_name</th>\n",
              "    </tr>\n",
              "  </thead>\n",
              "  <tbody>\n",
              "    <tr>\n",
              "      <th>49127</th>\n",
              "      <td>The little bee in this brooch is just a few m...</td>\n",
              "      <td>folksy</td>\n",
              "    </tr>\n",
              "    <tr>\n",
              "      <th>126626</th>\n",
              "      <td>Ben, Didn’t anyone ever tell you? The key is t...</td>\n",
              "      <td>airline</td>\n",
              "    </tr>\n",
              "    <tr>\n",
              "      <th>63254</th>\n",
              "      <td>Hello  Can I ask you all a question    strong...</td>\n",
              "      <td>folksy</td>\n",
              "    </tr>\n",
              "    <tr>\n",
              "      <th>81886</th>\n",
              "      <td>Ive received an email from Henrietta, a langu...</td>\n",
              "      <td>folksy</td>\n",
              "    </tr>\n",
              "    <tr>\n",
              "      <th>25936</th>\n",
              "      <td>@kasakuri You can. JavaScript is about variabl...</td>\n",
              "      <td>code combat</td>\n",
              "    </tr>\n",
              "  </tbody>\n",
              "</table>\n",
              "</div>"
            ],
            "text/plain": [
              "                                                post_text   forum_name\n",
              "49127    The little bee in this brooch is just a few m...       folksy\n",
              "126626  Ben, Didn’t anyone ever tell you? The key is t...      airline\n",
              "63254    Hello  Can I ask you all a question    strong...       folksy\n",
              "81886    Ive received an email from Henrietta, a langu...       folksy\n",
              "25936   @kasakuri You can. JavaScript is about variabl...  code combat"
            ]
          },
          "metadata": {
            "tags": []
          },
          "execution_count": 43
        }
      ]
    },
    {
      "cell_type": "code",
      "metadata": {
        "id": "IYvfSapmECLd",
        "colab_type": "code",
        "colab": {
          "base_uri": "https://localhost:8080/",
          "height": 34
        },
        "outputId": "c7272b50-48b1-4844-9369-64b249088f53"
      },
      "source": [
        "# Get the lists of sentences and their labels to np array\n",
        "\n",
        "sentences = data.post_text.values\n",
        "labels = data.forum_name.values\n",
        "type(labels)"
      ],
      "execution_count": 44,
      "outputs": [
        {
          "output_type": "execute_result",
          "data": {
            "text/plain": [
              "numpy.ndarray"
            ]
          },
          "metadata": {
            "tags": []
          },
          "execution_count": 44
        }
      ]
    },
    {
      "cell_type": "code",
      "metadata": {
        "id": "_rPWCD1qECLf",
        "colab_type": "code",
        "colab": {
          "base_uri": "https://localhost:8080/",
          "height": 34
        },
        "outputId": "ae9e4afc-3e0d-4e7c-903c-053361a1203b"
      },
      "source": [
        "len(sentences)"
      ],
      "execution_count": 45,
      "outputs": [
        {
          "output_type": "execute_result",
          "data": {
            "text/plain": [
              "145385"
            ]
          },
          "metadata": {
            "tags": []
          },
          "execution_count": 45
        }
      ]
    },
    {
      "cell_type": "code",
      "metadata": {
        "id": "xwyXpkzoECLh",
        "colab_type": "code",
        "colab": {
          "base_uri": "https://localhost:8080/",
          "height": 68
        },
        "outputId": "e131dc1b-4e2f-4cd5-c058-54597305522a"
      },
      "source": [
        "# Print the original sentence\n",
        "print(' Original: ', sentences[2])\n",
        "\n",
        "# Print the sentence split into tokens\n",
        "print('Tokenized: ', tokenizer.tokenize(sentences[2]))\n",
        "\n",
        "# Print the sentence mapped to token ids\n",
        "print('Token IDs: ', tokenizer.convert_tokens_to_ids(tokenizer.tokenize(sentences[2])))"
      ],
      "execution_count": 46,
      "outputs": [
        {
          "output_type": "stream",
          "text": [
            " Original:  Does it work now? \n",
            "Tokenized:  ['does', 'it', 'work', 'now', '?']\n",
            "Token IDs:  [2515, 2009, 2147, 2085, 1029]\n"
          ],
          "name": "stdout"
        }
      ]
    },
    {
      "cell_type": "code",
      "metadata": {
        "id": "PResFgiiECLj",
        "colab_type": "code",
        "colab": {
          "base_uri": "https://localhost:8080/",
          "height": 68
        },
        "outputId": "0e3263e2-ca51-43a7-c2fa-c44ecaabe9ca"
      },
      "source": [
        "# To find the max, min and median sentence length from all the forums\n",
        "\n",
        "lengths = []\n",
        "for s in sentences:\n",
        "    lengths.append(len(s))\n",
        "\n",
        "print('Max sentence length: ', max(lengths))\n",
        "print('Min sentence length: ', min(lengths))\n",
        "print('Median sentence length: ', np.median(lengths))"
      ],
      "execution_count": 47,
      "outputs": [
        {
          "output_type": "stream",
          "text": [
            "Max sentence length:  30686\n",
            "Min sentence length:  1\n",
            "Median sentence length:  261.0\n"
          ],
          "name": "stdout"
        }
      ]
    },
    {
      "cell_type": "code",
      "metadata": {
        "id": "dOHpTdBrECLn",
        "colab_type": "code",
        "colab": {
          "base_uri": "https://localhost:8080/",
          "height": 443
        },
        "outputId": "d7360b4b-2220-4136-809f-2c3ccc962a33"
      },
      "source": [
        "import matplotlib.pyplot as plt\n",
        "import seaborn as sns\n",
        "\n",
        "lengths = [min(l, 2048) for l in lengths]\n",
        "\n",
        "sns.set(style = 'darkgrid')\n",
        "sns.set(font_scale = 1.5)\n",
        "plt.rcParams[\"figure.figsize\"] = (10,5)\n",
        "\n",
        "sns.distplot(lengths, kde = False, rug = False)\n",
        "plt.title('Length of Comment')\n",
        "plt.xlabel('Comment Length')\n",
        "plt.ylabel('Frequency of occurence')"
      ],
      "execution_count": 48,
      "outputs": [
        {
          "output_type": "stream",
          "text": [
            "/usr/local/lib/python3.6/dist-packages/statsmodels/tools/_testing.py:19: FutureWarning: pandas.util.testing is deprecated. Use the functions in the public API at pandas.testing instead.\n",
            "  import pandas.util.testing as tm\n"
          ],
          "name": "stderr"
        },
        {
          "output_type": "execute_result",
          "data": {
            "text/plain": [
              "Text(0, 0.5, 'Frequency of occurence')"
            ]
          },
          "metadata": {
            "tags": []
          },
          "execution_count": 48
        },
        {
          "output_type": "display_data",
          "data": {
            "image/png": "[encoded data removed]",
            "text/plain": [
              "<Figure size 720x360 with 1 Axes>"
            ]
          },
          "metadata": {
            "tags": []
          }
        }
      ]
    },
    {
      "cell_type": "code",
      "metadata": {
        "id": "zXG4sS5PECLo",
        "colab_type": "code",
        "colab": {
          "base_uri": "https://localhost:8080/",
          "height": 51
        },
        "outputId": "85bf55d8-0eb6-41f1-916b-1adc0a7a207a"
      },
      "source": [
        "print(labels)"
      ],
      "execution_count": 49,
      "outputs": [
        {
          "output_type": "stream",
          "text": [
            "['code combat' 'code combat' 'code combat' ... 'airline' 'airline'\n",
            " 'airline']\n"
          ],
          "name": "stdout"
        }
      ]
    },
    {
      "cell_type": "code",
      "metadata": {
        "id": "B0MhqW5tECLr",
        "colab_type": "code",
        "colab": {
          "base_uri": "https://localhost:8080/",
          "height": 136
        },
        "outputId": "e459f465-e9bb-4d0d-f84f-a274b48b7738"
      },
      "source": [
        "import torch\n",
        "\n",
        "# Tokenize all of the sentences and map the tokens to their word IDs\n",
        "input_ids = []\n",
        "attention_masks = []\n",
        "\n",
        "# For every sentence...\n",
        "for s in sentences:\n",
        "    #   (1) Tokenize the sentence\n",
        "    #   (2) Prepend the `[CLS]` token to the start\n",
        "    #   (3) Append the `[SEP]` token to the end\n",
        "    #   (4) Map tokens to their IDs\n",
        "    #   (5) Pad or truncate the sentence to `max_length`\n",
        "    #   (6) Create attention masks for [PAD] tokens\n",
        "    encoded_dict = tokenizer.encode_plus(\n",
        "                        s,                      # Sentence to encode\n",
        "                        add_special_tokens = True, # Add '[CLS]' and '[SEP]'\n",
        "                        max_length = 64,           # Pad & truncate all sentences\n",
        "                        pad_to_max_length = True,  # Pad to max length\n",
        "                        return_attention_mask = True,   # Construct attn. masks.\n",
        "                        return_tensors = 'pt',     # Return pytorch tensors.\n",
        "                   )\n",
        "    \n",
        "    # Add the encoded sentence to the list.\n",
        "    input_ids.append(encoded_dict['input_ids'])\n",
        "    \n",
        "    # And its attention mask (simply differentiates padding from non-padding).\n",
        "    attention_masks.append(encoded_dict['attention_mask'])\n",
        "\n",
        "# Convert the lists into tensors.\n",
        "input_ids = torch.cat(input_ids, dim=0)\n",
        "attention_masks = torch.cat(attention_masks, dim=0)\n",
        "\n",
        "# Print sentence 0, now as a list of IDs.\n",
        "print('Original: ', sentences[2])\n",
        "print('Token IDs:', input_ids[2])"
      ],
      "execution_count": 50,
      "outputs": [
        {
          "output_type": "stream",
          "text": [
            "Original:  Does it work now? \n",
            "Token IDs: tensor([ 101, 2515, 2009, 2147, 2085, 1029,  102,    0,    0,    0,    0,    0,\n",
            "           0,    0,    0,    0,    0,    0,    0,    0,    0,    0,    0,    0,\n",
            "           0,    0,    0,    0,    0,    0,    0,    0,    0,    0,    0,    0,\n",
            "           0,    0,    0,    0,    0,    0,    0,    0,    0,    0,    0,    0,\n",
            "           0,    0,    0,    0,    0,    0,    0,    0,    0,    0,    0,    0,\n",
            "           0,    0,    0,    0])\n"
          ],
          "name": "stdout"
        }
      ]
    },
    {
      "cell_type": "code",
      "metadata": {
        "id": "uVLqhZZ3ECLt",
        "colab_type": "code",
        "colab": {
          "base_uri": "https://localhost:8080/",
          "height": 34
        },
        "outputId": "4d3f6310-1836-4888-f59f-4291be58275c"
      },
      "source": [
        "# Encoding the string labels to int values\n",
        "\n",
        "labels1 = []\n",
        "for i in labels:\n",
        "    if i == 'code combat':\n",
        "        labels1.append(0)\n",
        "    elif i == 'folksy':\n",
        "        labels1.append(1)\n",
        "    elif i == 'huel':\n",
        "        labels1.append(2)\n",
        "    else:\n",
        "        labels1.append(3)\n",
        "len(labels1)"
      ],
      "execution_count": 51,
      "outputs": [
        {
          "output_type": "execute_result",
          "data": {
            "text/plain": [
              "145385"
            ]
          },
          "metadata": {
            "tags": []
          },
          "execution_count": 51
        }
      ]
    },
    {
      "cell_type": "code",
      "metadata": {
        "id": "Hw6ErUkOECLv",
        "colab_type": "code",
        "colab": {
          "base_uri": "https://localhost:8080/",
          "height": 34
        },
        "outputId": "c94f4d5c-b3b3-4ca8-b047-6f3923d82655"
      },
      "source": [
        "# Converting labels to tensor type\n",
        "\n",
        "labels = torch.tensor(labels1)\n",
        "print(labels)"
      ],
      "execution_count": 52,
      "outputs": [
        {
          "output_type": "stream",
          "text": [
            "tensor([0, 0, 0,  ..., 3, 3, 3])\n"
          ],
          "name": "stdout"
        }
      ]
    },
    {
      "cell_type": "code",
      "metadata": {
        "id": "I9P2M8QyECLx",
        "colab_type": "code",
        "colab": {
          "base_uri": "https://localhost:8080/",
          "height": 51
        },
        "outputId": "dd86b7da-fbba-4d13-e164-2b3c2ab9c7e0"
      },
      "source": [
        "from torch.utils.data import TensorDataset, random_split\n",
        "\n",
        "# Combine the training inputs into a TensorDataset.\n",
        "dataset = TensorDataset(input_ids, attention_masks, labels)\n",
        "\n",
        "# Create a 90-10 train-validation split.\n",
        "\n",
        "# Calculate the number of samples to include in each set.\n",
        "train_size = int(0.9 * len(dataset))\n",
        "val_size = len(dataset) - train_size\n",
        "\n",
        "# Divide the dataset by randomly selecting samples.\n",
        "train_dataset, val_dataset = random_split(dataset, [train_size, val_size])\n",
        "\n",
        "print('{} training samples'.format(train_size))\n",
        "print('{} validation samples'.format(val_size))"
      ],
      "execution_count": 53,
      "outputs": [
        {
          "output_type": "stream",
          "text": [
            "130846 training samples\n",
            "14539 validation samples\n"
          ],
          "name": "stdout"
        }
      ]
    },
    {
      "cell_type": "code",
      "metadata": {
        "id": "eXmRga-jECLy",
        "colab_type": "code",
        "colab": {}
      },
      "source": [
        "from torch.utils.data import DataLoader, RandomSampler, SequentialSampler\n",
        "\n",
        "# The DataLoader needs to know our batch size for training, so we specify it \n",
        "# here. For fine-tuning BERT on a specific task, the authors recommend a batch \n",
        "# size of 16 or 32.\n",
        "\n",
        "batch_size = 32\n",
        "\n",
        "# Create the DataLoaders for our training and validation sets.\n",
        "# We'll take training samples in random order. \n",
        "\n",
        "train_dataloader = DataLoader(\n",
        "            train_dataset,  # The training samples.\n",
        "            sampler = RandomSampler(train_dataset), # Select batches randomly\n",
        "            batch_size = batch_size # Trains with this batch size.\n",
        "        )\n",
        "\n",
        "# For validation the order doesn't matter, so we'll just read them sequentially.\n",
        "\n",
        "validation_dataloader = DataLoader(\n",
        "            val_dataset, # The validation samples.\n",
        "            sampler = SequentialSampler(val_dataset), # Pull out batches sequentially.\n",
        "            batch_size = batch_size # Evaluate with this batch size.\n",
        "        )"
      ],
      "execution_count": 54,
      "outputs": []
    },
    {
      "cell_type": "code",
      "metadata": {
        "id": "_FD4mkcuECL0",
        "colab_type": "code",
        "colab": {
          "base_uri": "https://localhost:8080/",
          "height": 1000,
          "referenced_widgets": [
            "57a3a83197624d5e965bc2f0c22fc1ea",
            "a8358e2e3349413990388fe827569ae0",
            "dadbb2458781449ca773e66bea338fcf",
            "9aec26ec3f1f44398abdc0020e4c667d",
            "b3028a1567a44227864e2ff34d449283",
            "00ed370671b342af9acebf63b431beb0",
            "b7880ba679004175a39c6d9f46c2a80b",
            "caea2191b87c43079bd098812555fd3b",
            "ba5d55e2693747e2b62025e17238c0c4",
            "2e98f775b3524407aa549ff87f7b59d9",
            "cebbdf1403ef46cbaedf631020de852c",
            "cd3e89576bfc421fbcee765f7a73121d",
            "ac45aebed3db4efe8f5498032a20ef93",
            "947af0cf03594a21856c163fadce5d26",
            "18b7e4bb6c09428592e958a08a6da52f",
            "149286df35f04067b11d11118c258c6c"
          ]
        },
        "outputId": "8c6003cb-b693-47c1-e3e8-a86a11ce0664"
      },
      "source": [
        "from transformers import BertForSequenceClassification, AdamW, BertConfig\n",
        "\n",
        "# Load BertForSequenceClassification, the pretrained BERT model with a single \n",
        "# linear classification layer on top. \n",
        "\n",
        "model = BertForSequenceClassification.from_pretrained(\n",
        "    \"bert-base-uncased\", # Use the 12-layer BERT model, with an uncased vocab.\n",
        "    num_labels = 4, # The number of output labels--2 for binary classification.\n",
        "                    # You can increase this for multi-class tasks.   \n",
        "    output_attentions = False, # Whether the model returns attentions weights.\n",
        "    output_hidden_states = False, # Whether the model returns all hidden-states.\n",
        ")\n",
        "\n",
        "# Tell pytorch to run this model on the GPU. Make sure you enable the runtime clicking [Runtime]->[Change Runtime Type]->[Hardware Accelerator]->GPU->[Save]\n",
        "model.cuda()"
      ],
      "execution_count": 55,
      "outputs": [
        {
          "output_type": "display_data",
          "data": {
            "application/vnd.jupyter.widget-view+json": {
              "model_id": "57a3a83197624d5e965bc2f0c22fc1ea",
              "version_minor": 0,
              "version_major": 2
            },
            "text/plain": [
              "HBox(children=(FloatProgress(value=0.0, description='Downloading', max=433.0, style=ProgressStyle(description_…"
            ]
          },
          "metadata": {
            "tags": []
          }
        },
        {
          "output_type": "stream",
          "text": [
            "\n"
          ],
          "name": "stdout"
        },
        {
          "output_type": "display_data",
          "data": {
            "application/vnd.jupyter.widget-view+json": {
              "model_id": "ba5d55e2693747e2b62025e17238c0c4",
              "version_minor": 0,
              "version_major": 2
            },
            "text/plain": [
              "HBox(children=(FloatProgress(value=0.0, description='Downloading', max=440473133.0, style=ProgressStyle(descri…"
            ]
          },
          "metadata": {
            "tags": []
          }
        },
        {
          "output_type": "stream",
          "text": [
            "\n"
          ],
          "name": "stdout"
        },
        {
          "output_type": "execute_result",
          "data": {
            "text/plain": [
              "BertForSequenceClassification(\n",
              "  (bert): BertModel(\n",
              "    (embeddings): BertEmbeddings(\n",
              "      (word_embeddings): Embedding(30522, 768, padding_idx=0)\n",
              "      (position_embeddings): Embedding(512, 768)\n",
              "      (token_type_embeddings): Embedding(2, 768)\n",
              "      (LayerNorm): LayerNorm((768,), eps=1e-12, elementwise_affine=True)\n",
              "      (dropout): Dropout(p=0.1, inplace=False)\n",
              "    )\n",
              "    (encoder): BertEncoder(\n",
              "      (layer): ModuleList(\n",
              "        (0): BertLayer(\n",
              "          (attention): BertAttention(\n",
              "            (self): BertSelfAttention(\n",
              "              (query): Linear(in_features=768, out_features=768, bias=True)\n",
              "              (key): Linear(in_features=768, out_features=768, bias=True)\n",
              "              (value): Linear(in_features=768, out_features=768, bias=True)\n",
              "              (dropout): Dropout(p=0.1, inplace=False)\n",
              "            )\n",
              "            (output): BertSelfOutput(\n",
              "              (dense): Linear(in_features=768, out_features=768, bias=True)\n",
              "              (LayerNorm): LayerNorm((768,), eps=1e-12, elementwise_affine=True)\n",
              "              (dropout): Dropout(p=0.1, inplace=False)\n",
              "            )\n",
              "          )\n",
              "          (intermediate): BertIntermediate(\n",
              "            (dense): Linear(in_features=768, out_features=3072, bias=True)\n",
              "          )\n",
              "          (output): BertOutput(\n",
              "            (dense): Linear(in_features=3072, out_features=768, bias=True)\n",
              "            (LayerNorm): LayerNorm((768,), eps=1e-12, elementwise_affine=True)\n",
              "            (dropout): Dropout(p=0.1, inplace=False)\n",
              "          )\n",
              "        )\n",
              "        (1): BertLayer(\n",
              "          (attention): BertAttention(\n",
              "            (self): BertSelfAttention(\n",
              "              (query): Linear(in_features=768, out_features=768, bias=True)\n",
              "              (key): Linear(in_features=768, out_features=768, bias=True)\n",
              "              (value): Linear(in_features=768, out_features=768, bias=True)\n",
              "              (dropout): Dropout(p=0.1, inplace=False)\n",
              "            )\n",
              "            (output): BertSelfOutput(\n",
              "              (dense): Linear(in_features=768, out_features=768, bias=True)\n",
              "              (LayerNorm): LayerNorm((768,), eps=1e-12, elementwise_affine=True)\n",
              "              (dropout): Dropout(p=0.1, inplace=False)\n",
              "            )\n",
              "          )\n",
              "          (intermediate): BertIntermediate(\n",
              "            (dense): Linear(in_features=768, out_features=3072, bias=True)\n",
              "          )\n",
              "          (output): BertOutput(\n",
              "            (dense): Linear(in_features=3072, out_features=768, bias=True)\n",
              "            (LayerNorm): LayerNorm((768,), eps=1e-12, elementwise_affine=True)\n",
              "            (dropout): Dropout(p=0.1, inplace=False)\n",
              "          )\n",
              "        )\n",
              "        (2): BertLayer(\n",
              "          (attention): BertAttention(\n",
              "            (self): BertSelfAttention(\n",
              "              (query): Linear(in_features=768, out_features=768, bias=True)\n",
              "              (key): Linear(in_features=768, out_features=768, bias=True)\n",
              "              (value): Linear(in_features=768, out_features=768, bias=True)\n",
              "              (dropout): Dropout(p=0.1, inplace=False)\n",
              "            )\n",
              "            (output): BertSelfOutput(\n",
              "              (dense): Linear(in_features=768, out_features=768, bias=True)\n",
              "              (LayerNorm): LayerNorm((768,), eps=1e-12, elementwise_affine=True)\n",
              "              (dropout): Dropout(p=0.1, inplace=False)\n",
              "            )\n",
              "          )\n",
              "          (intermediate): BertIntermediate(\n",
              "            (dense): Linear(in_features=768, out_features=3072, bias=True)\n",
              "          )\n",
              "          (output): BertOutput(\n",
              "            (dense): Linear(in_features=3072, out_features=768, bias=True)\n",
              "            (LayerNorm): LayerNorm((768,), eps=1e-12, elementwise_affine=True)\n",
              "            (dropout): Dropout(p=0.1, inplace=False)\n",
              "          )\n",
              "        )\n",
              "        (3): BertLayer(\n",
              "          (attention): BertAttention(\n",
              "            (self): BertSelfAttention(\n",
              "              (query): Linear(in_features=768, out_features=768, bias=True)\n",
              "              (key): Linear(in_features=768, out_features=768, bias=True)\n",
              "              (value): Linear(in_features=768, out_features=768, bias=True)\n",
              "              (dropout): Dropout(p=0.1, inplace=False)\n",
              "            )\n",
              "            (output): BertSelfOutput(\n",
              "              (dense): Linear(in_features=768, out_features=768, bias=True)\n",
              "              (LayerNorm): LayerNorm((768,), eps=1e-12, elementwise_affine=True)\n",
              "              (dropout): Dropout(p=0.1, inplace=False)\n",
              "            )\n",
              "          )\n",
              "          (intermediate): BertIntermediate(\n",
              "            (dense): Linear(in_features=768, out_features=3072, bias=True)\n",
              "          )\n",
              "          (output): BertOutput(\n",
              "            (dense): Linear(in_features=3072, out_features=768, bias=True)\n",
              "            (LayerNorm): LayerNorm((768,), eps=1e-12, elementwise_affine=True)\n",
              "            (dropout): Dropout(p=0.1, inplace=False)\n",
              "          )\n",
              "        )\n",
              "        (4): BertLayer(\n",
              "          (attention): BertAttention(\n",
              "            (self): BertSelfAttention(\n",
              "              (query): Linear(in_features=768, out_features=768, bias=True)\n",
              "              (key): Linear(in_features=768, out_features=768, bias=True)\n",
              "              (value): Linear(in_features=768, out_features=768, bias=True)\n",
              "              (dropout): Dropout(p=0.1, inplace=False)\n",
              "            )\n",
              "            (output): BertSelfOutput(\n",
              "              (dense): Linear(in_features=768, out_features=768, bias=True)\n",
              "              (LayerNorm): LayerNorm((768,), eps=1e-12, elementwise_affine=True)\n",
              "              (dropout): Dropout(p=0.1, inplace=False)\n",
              "            )\n",
              "          )\n",
              "          (intermediate): BertIntermediate(\n",
              "            (dense): Linear(in_features=768, out_features=3072, bias=True)\n",
              "          )\n",
              "          (output): BertOutput(\n",
              "            (dense): Linear(in_features=3072, out_features=768, bias=True)\n",
              "            (LayerNorm): LayerNorm((768,), eps=1e-12, elementwise_affine=True)\n",
              "            (dropout): Dropout(p=0.1, inplace=False)\n",
              "          )\n",
              "        )\n",
              "        (5): BertLayer(\n",
              "          (attention): BertAttention(\n",
              "            (self): BertSelfAttention(\n",
              "              (query): Linear(in_features=768, out_features=768, bias=True)\n",
              "              (key): Linear(in_features=768, out_features=768, bias=True)\n",
              "              (value): Linear(in_features=768, out_features=768, bias=True)\n",
              "              (dropout): Dropout(p=0.1, inplace=False)\n",
              "            )\n",
              "            (output): BertSelfOutput(\n",
              "              (dense): Linear(in_features=768, out_features=768, bias=True)\n",
              "              (LayerNorm): LayerNorm((768,), eps=1e-12, elementwise_affine=True)\n",
              "              (dropout): Dropout(p=0.1, inplace=False)\n",
              "            )\n",
              "          )\n",
              "          (intermediate): BertIntermediate(\n",
              "            (dense): Linear(in_features=768, out_features=3072, bias=True)\n",
              "          )\n",
              "          (output): BertOutput(\n",
              "            (dense): Linear(in_features=3072, out_features=768, bias=True)\n",
              "            (LayerNorm): LayerNorm((768,), eps=1e-12, elementwise_affine=True)\n",
              "            (dropout): Dropout(p=0.1, inplace=False)\n",
              "          )\n",
              "        )\n",
              "        (6): BertLayer(\n",
              "          (attention): BertAttention(\n",
              "            (self): BertSelfAttention(\n",
              "              (query): Linear(in_features=768, out_features=768, bias=True)\n",
              "              (key): Linear(in_features=768, out_features=768, bias=True)\n",
              "              (value): Linear(in_features=768, out_features=768, bias=True)\n",
              "              (dropout): Dropout(p=0.1, inplace=False)\n",
              "            )\n",
              "            (output): BertSelfOutput(\n",
              "              (dense): Linear(in_features=768, out_features=768, bias=True)\n",
              "              (LayerNorm): LayerNorm((768,), eps=1e-12, elementwise_affine=True)\n",
              "              (dropout): Dropout(p=0.1, inplace=False)\n",
              "            )\n",
              "          )\n",
              "          (intermediate): BertIntermediate(\n",
              "            (dense): Linear(in_features=768, out_features=3072, bias=True)\n",
              "          )\n",
              "          (output): BertOutput(\n",
              "            (dense): Linear(in_features=3072, out_features=768, bias=True)\n",
              "            (LayerNorm): LayerNorm((768,), eps=1e-12, elementwise_affine=True)\n",
              "            (dropout): Dropout(p=0.1, inplace=False)\n",
              "          )\n",
              "        )\n",
              "        (7): BertLayer(\n",
              "          (attention): BertAttention(\n",
              "            (self): BertSelfAttention(\n",
              "              (query): Linear(in_features=768, out_features=768, bias=True)\n",
              "              (key): Linear(in_features=768, out_features=768, bias=True)\n",
              "              (value): Linear(in_features=768, out_features=768, bias=True)\n",
              "              (dropout): Dropout(p=0.1, inplace=False)\n",
              "            )\n",
              "            (output): BertSelfOutput(\n",
              "              (dense): Linear(in_features=768, out_features=768, bias=True)\n",
              "              (LayerNorm): LayerNorm((768,), eps=1e-12, elementwise_affine=True)\n",
              "              (dropout): Dropout(p=0.1, inplace=False)\n",
              "            )\n",
              "          )\n",
              "          (intermediate): BertIntermediate(\n",
              "            (dense): Linear(in_features=768, out_features=3072, bias=True)\n",
              "          )\n",
              "          (output): BertOutput(\n",
              "            (dense): Linear(in_features=3072, out_features=768, bias=True)\n",
              "            (LayerNorm): LayerNorm((768,), eps=1e-12, elementwise_affine=True)\n",
              "            (dropout): Dropout(p=0.1, inplace=False)\n",
              "          )\n",
              "        )\n",
              "        (8): BertLayer(\n",
              "          (attention): BertAttention(\n",
              "            (self): BertSelfAttention(\n",
              "              (query): Linear(in_features=768, out_features=768, bias=True)\n",
              "              (key): Linear(in_features=768, out_features=768, bias=True)\n",
              "              (value): Linear(in_features=768, out_features=768, bias=True)\n",
              "              (dropout): Dropout(p=0.1, inplace=False)\n",
              "            )\n",
              "            (output): BertSelfOutput(\n",
              "              (dense): Linear(in_features=768, out_features=768, bias=True)\n",
              "              (LayerNorm): LayerNorm((768,), eps=1e-12, elementwise_affine=True)\n",
              "              (dropout): Dropout(p=0.1, inplace=False)\n",
              "            )\n",
              "          )\n",
              "          (intermediate): BertIntermediate(\n",
              "            (dense): Linear(in_features=768, out_features=3072, bias=True)\n",
              "          )\n",
              "          (output): BertOutput(\n",
              "            (dense): Linear(in_features=3072, out_features=768, bias=True)\n",
              "            (LayerNorm): LayerNorm((768,), eps=1e-12, elementwise_affine=True)\n",
              "            (dropout): Dropout(p=0.1, inplace=False)\n",
              "          )\n",
              "        )\n",
              "        (9): BertLayer(\n",
              "          (attention): BertAttention(\n",
              "            (self): BertSelfAttention(\n",
              "              (query): Linear(in_features=768, out_features=768, bias=True)\n",
              "              (key): Linear(in_features=768, out_features=768, bias=True)\n",
              "              (value): Linear(in_features=768, out_features=768, bias=True)\n",
              "              (dropout): Dropout(p=0.1, inplace=False)\n",
              "            )\n",
              "            (output): BertSelfOutput(\n",
              "              (dense): Linear(in_features=768, out_features=768, bias=True)\n",
              "              (LayerNorm): LayerNorm((768,), eps=1e-12, elementwise_affine=True)\n",
              "              (dropout): Dropout(p=0.1, inplace=False)\n",
              "            )\n",
              "          )\n",
              "          (intermediate): BertIntermediate(\n",
              "            (dense): Linear(in_features=768, out_features=3072, bias=True)\n",
              "          )\n",
              "          (output): BertOutput(\n",
              "            (dense): Linear(in_features=3072, out_features=768, bias=True)\n",
              "            (LayerNorm): LayerNorm((768,), eps=1e-12, elementwise_affine=True)\n",
              "            (dropout): Dropout(p=0.1, inplace=False)\n",
              "          )\n",
              "        )\n",
              "        (10): BertLayer(\n",
              "          (attention): BertAttention(\n",
              "            (self): BertSelfAttention(\n",
              "              (query): Linear(in_features=768, out_features=768, bias=True)\n",
              "              (key): Linear(in_features=768, out_features=768, bias=True)\n",
              "              (value): Linear(in_features=768, out_features=768, bias=True)\n",
              "              (dropout): Dropout(p=0.1, inplace=False)\n",
              "            )\n",
              "            (output): BertSelfOutput(\n",
              "              (dense): Linear(in_features=768, out_features=768, bias=True)\n",
              "              (LayerNorm): LayerNorm((768,), eps=1e-12, elementwise_affine=True)\n",
              "              (dropout): Dropout(p=0.1, inplace=False)\n",
              "            )\n",
              "          )\n",
              "          (intermediate): BertIntermediate(\n",
              "            (dense): Linear(in_features=768, out_features=3072, bias=True)\n",
              "          )\n",
              "          (output): BertOutput(\n",
              "            (dense): Linear(in_features=3072, out_features=768, bias=True)\n",
              "            (LayerNorm): LayerNorm((768,), eps=1e-12, elementwise_affine=True)\n",
              "            (dropout): Dropout(p=0.1, inplace=False)\n",
              "          )\n",
              "        )\n",
              "        (11): BertLayer(\n",
              "          (attention): BertAttention(\n",
              "            (self): BertSelfAttention(\n",
              "              (query): Linear(in_features=768, out_features=768, bias=True)\n",
              "              (key): Linear(in_features=768, out_features=768, bias=True)\n",
              "              (value): Linear(in_features=768, out_features=768, bias=True)\n",
              "              (dropout): Dropout(p=0.1, inplace=False)\n",
              "            )\n",
              "            (output): BertSelfOutput(\n",
              "              (dense): Linear(in_features=768, out_features=768, bias=True)\n",
              "              (LayerNorm): LayerNorm((768,), eps=1e-12, elementwise_affine=True)\n",
              "              (dropout): Dropout(p=0.1, inplace=False)\n",
              "            )\n",
              "          )\n",
              "          (intermediate): BertIntermediate(\n",
              "            (dense): Linear(in_features=768, out_features=3072, bias=True)\n",
              "          )\n",
              "          (output): BertOutput(\n",
              "            (dense): Linear(in_features=3072, out_features=768, bias=True)\n",
              "            (LayerNorm): LayerNorm((768,), eps=1e-12, elementwise_affine=True)\n",
              "            (dropout): Dropout(p=0.1, inplace=False)\n",
              "          )\n",
              "        )\n",
              "      )\n",
              "    )\n",
              "    (pooler): BertPooler(\n",
              "      (dense): Linear(in_features=768, out_features=768, bias=True)\n",
              "      (activation): Tanh()\n",
              "    )\n",
              "  )\n",
              "  (dropout): Dropout(p=0.1, inplace=False)\n",
              "  (classifier): Linear(in_features=768, out_features=4, bias=True)\n",
              ")"
            ]
          },
          "metadata": {
            "tags": []
          },
          "execution_count": 55
        }
      ]
    },
    {
      "cell_type": "code",
      "metadata": {
        "id": "CJ6AJowbECL1",
        "colab_type": "code",
        "colab": {}
      },
      "source": [
        "# We use the Adam Optimizer here (the optimizer performs the updates to our weights)\n",
        "\n",
        "optimizer = AdamW(model.parameters(),\n",
        "                 lr = 2e-5,     # Learning rate\n",
        "                 eps = 1e-8)    # adam_epsilon"
      ],
      "execution_count": 56,
      "outputs": []
    },
    {
      "cell_type": "code",
      "metadata": {
        "id": "fvJf4WGkECL3",
        "colab_type": "code",
        "colab": {}
      },
      "source": [
        "# We will create the learning rate scheduler here\n",
        "\n",
        "from transformers import get_linear_schedule_with_warmup\n",
        "\n",
        "epochs = 4\n",
        "\n",
        "total_steps = len(train_dataloader)*epochs\n",
        "\n",
        "scheduler = get_linear_schedule_with_warmup(optimizer, num_warmup_steps = 0, num_training_steps = total_steps)"
      ],
      "execution_count": 57,
      "outputs": []
    },
    {
      "cell_type": "code",
      "metadata": {
        "id": "1H1ejcvIECL6",
        "colab_type": "code",
        "colab": {}
      },
      "source": [
        "# Helper function for calculating accuracy\n",
        "\n",
        "def flat_accuracy(preds, labels):\n",
        "    pred_flat = np.argmax(preds, axis = 1).flatten()\n",
        "    labels_flat = labels.flatten()\n",
        "    return np.sum(pred_flat == labels_flat) / len(labels_flat)"
      ],
      "execution_count": 58,
      "outputs": []
    },
    {
      "cell_type": "code",
      "metadata": {
        "id": "hp0DX5WyECL9",
        "colab_type": "code",
        "colab": {}
      },
      "source": [
        "# Helper function for formatting elapsed times\n",
        "\n",
        "import time\n",
        "import datetime\n",
        "\n",
        "def format_time(elapsed):\n",
        "    elapsed_rounded = int(round(elapsed))\n",
        "    return str(datetime.timedelta(seconds = elapsed_rounded))"
      ],
      "execution_count": 59,
      "outputs": []
    },
    {
      "cell_type": "code",
      "metadata": {
        "id": "kfrfLxOQECL_",
        "colab_type": "code",
        "colab": {
          "base_uri": "https://localhost:8080/",
          "height": 1000
        },
        "outputId": "44103dab-52c2-44ae-b03f-2c9f029ff932"
      },
      "source": [
        "# Training Loop!\n",
        "\n",
        "import random\n",
        "# import torch.nn\n",
        "\n",
        "seed_val = 42\n",
        "\n",
        "random.seed(seed_val)\n",
        "np.random.seed(seed_val)\n",
        "torch.manual_seed(seed_val)\n",
        "torch.cuda.manual_seed_all(seed_val)\n",
        "\n",
        "loss_values = []\n",
        "\n",
        "for epoch_i in range(epochs):\n",
        "    print(\"\")\n",
        "    print(\"Epoch {} / {}\".format(epoch_i + 1, epochs))\n",
        "    print(\"Training...\")\n",
        "\n",
        "    t0 = time.time()\n",
        "    \n",
        "    total_loss = 0\n",
        "    # Set the train flag to True\n",
        "    model.train()\n",
        "    \n",
        "    for step, batch in enumerate(train_dataloader):\n",
        "        if step % 100 == 0 and not step == 0:\n",
        "            elapsed = format_time(time.time() - t0)\n",
        "            \n",
        "            print(\"Batch {:>5,} of {:>5,}. Elapsed {:}\".format(step, len(train_dataloader), elapsed))\n",
        "            \n",
        "        b_input_ids = batch[0].to(device)\n",
        "        b_input_mask = batch[1].to(device)\n",
        "        b_labels = batch[2].to(device)\n",
        "        \n",
        "        model.zero_grad()\n",
        "        \n",
        "        outputs = model(b_input_ids,\n",
        "                       token_type_ids = None,\n",
        "                       attention_mask = b_input_mask,\n",
        "                       labels = b_labels)\n",
        "        \n",
        "        loss = outputs[0]\n",
        "        \n",
        "        total_loss += loss.item()\n",
        "        \n",
        "        loss.backward()\n",
        "        \n",
        "        torch.nn.utils.clip_grad_norm_(model.parameters(), 1.0)\n",
        "        optimizer.step()\n",
        "        scheduler.step()\n",
        "        \n",
        "    avg_train_loss = total_loss / len(train_dataloader)\n",
        "    loss_values.append(avg_train_loss)\n",
        "    \n",
        "    print(\"\")\n",
        "    print(\" Average training loss: {0:.2f}\".format(avg_train_loss))\n",
        "    print(\" Training epoch took: {:}\".format(format_time(time.time() - t0)))\n",
        "    \n",
        "    print(\"\")\n",
        "    print(\"Running validation...\")\n",
        "    \n",
        "    \n",
        "    model.eval()\n",
        "    \n",
        "    eval_loss, eval_accuracy = 0, 0\n",
        "    nb_eval_steps, nb_eval_examples = 0, 0\n",
        "    \n",
        "    for batch in validation_dataloader:\n",
        "        batch = tuple(t.to(device) for t in batch)\n",
        "        b_input_ids, b_input_mask, b_labels = batch\n",
        "        \n",
        "        with torch.no_grad():\n",
        "            outputs = model(b_input_ids,\n",
        "                           token_type_ids = None,\n",
        "                           attention_mask = b_input_mask)\n",
        "        logits = outputs[0]\n",
        "        \n",
        "        logits = logits.detach().cpu().numpy()\n",
        "        label_ids = b_labels.to('cpu').numpy()\n",
        "        \n",
        "        tmp_eval_accuracy = flat_accuracy(logits, label_ids)\n",
        "        \n",
        "        eval_accuracy += tmp_eval_accuracy\n",
        "        \n",
        "        nb_eval_steps += 1\n",
        "        \n",
        "    print(\" Accuracy: {0:.2f}\".format(eval_accuracy/nb_eval_steps))\n",
        "    print(\" Validation took: {:}\".format(format_time(time.time() - t0)))\n",
        "    \n",
        "print(\"\")\n",
        "print(\"Training complete!\")"
      ],
      "execution_count": 60,
      "outputs": [
        {
          "output_type": "stream",
          "text": [
            "\n",
            "Epoch 1 / 4\n",
            "Training...\n",
            "Batch   100 of 4,089. Elapsed 0:01:09\n",
            "Batch   200 of 4,089. Elapsed 0:02:18\n",
            "Batch   300 of 4,089. Elapsed 0:03:26\n",
            "Batch   400 of 4,089. Elapsed 0:04:35\n",
            "Batch   500 of 4,089. Elapsed 0:05:43\n",
            "Batch   600 of 4,089. Elapsed 0:06:52\n",
            "Batch   700 of 4,089. Elapsed 0:08:00\n",
            "Batch   800 of 4,089. Elapsed 0:09:08\n",
            "Batch   900 of 4,089. Elapsed 0:10:16\n",
            "Batch 1,000 of 4,089. Elapsed 0:11:25\n",
            "Batch 1,100 of 4,089. Elapsed 0:12:33\n",
            "Batch 1,200 of 4,089. Elapsed 0:13:41\n",
            "Batch 1,300 of 4,089. Elapsed 0:14:49\n",
            "Batch 1,400 of 4,089. Elapsed 0:15:58\n",
            "Batch 1,500 of 4,089. Elapsed 0:17:07\n",
            "Batch 1,600 of 4,089. Elapsed 0:18:16\n",
            "Batch 1,700 of 4,089. Elapsed 0:19:25\n",
            "Batch 1,800 of 4,089. Elapsed 0:20:33\n",
            "Batch 1,900 of 4,089. Elapsed 0:21:42\n",
            "Batch 2,000 of 4,089. Elapsed 0:22:51\n",
            "Batch 2,100 of 4,089. Elapsed 0:23:59\n",
            "Batch 2,200 of 4,089. Elapsed 0:25:08\n",
            "Batch 2,300 of 4,089. Elapsed 0:26:17\n",
            "Batch 2,400 of 4,089. Elapsed 0:27:26\n",
            "Batch 2,500 of 4,089. Elapsed 0:28:34\n",
            "Batch 2,600 of 4,089. Elapsed 0:29:43\n",
            "Batch 2,700 of 4,089. Elapsed 0:30:52\n",
            "Batch 2,800 of 4,089. Elapsed 0:32:00\n",
            "Batch 2,900 of 4,089. Elapsed 0:33:09\n",
            "Batch 3,000 of 4,089. Elapsed 0:34:18\n",
            "Batch 3,100 of 4,089. Elapsed 0:35:26\n",
            "Batch 3,200 of 4,089. Elapsed 0:36:35\n",
            "Batch 3,300 of 4,089. Elapsed 0:37:44\n",
            "Batch 3,400 of 4,089. Elapsed 0:38:52\n",
            "Batch 3,500 of 4,089. Elapsed 0:40:01\n",
            "Batch 3,600 of 4,089. Elapsed 0:41:10\n",
            "Batch 3,700 of 4,089. Elapsed 0:42:18\n",
            "Batch 3,800 of 4,089. Elapsed 0:43:27\n",
            "Batch 3,900 of 4,089. Elapsed 0:44:35\n",
            "Batch 4,000 of 4,089. Elapsed 0:45:44\n",
            "\n",
            " Average training loss: 0.11\n",
            " Training epoch took: 0:46:45\n",
            "\n",
            "Running validation...\n",
            " Accuracy: 0.97\n",
            " Validation took: 0:48:25\n",
            "\n",
            "Epoch 2 / 4\n",
            "Training...\n",
            "Batch   100 of 4,089. Elapsed 0:01:08\n",
            "Batch   200 of 4,089. Elapsed 0:02:17\n",
            "Batch   300 of 4,089. Elapsed 0:03:25\n",
            "Batch   400 of 4,089. Elapsed 0:04:34\n",
            "Batch   500 of 4,089. Elapsed 0:05:42\n",
            "Batch   600 of 4,089. Elapsed 0:06:51\n",
            "Batch   700 of 4,089. Elapsed 0:08:00\n",
            "Batch   800 of 4,089. Elapsed 0:09:08\n",
            "Batch   900 of 4,089. Elapsed 0:10:16\n",
            "Batch 1,000 of 4,089. Elapsed 0:11:25\n",
            "Batch 1,100 of 4,089. Elapsed 0:12:34\n",
            "Batch 1,200 of 4,089. Elapsed 0:13:42\n",
            "Batch 1,300 of 4,089. Elapsed 0:14:51\n",
            "Batch 1,400 of 4,089. Elapsed 0:15:59\n",
            "Batch 1,500 of 4,089. Elapsed 0:17:08\n",
            "Batch 1,600 of 4,089. Elapsed 0:18:16\n",
            "Batch 1,700 of 4,089. Elapsed 0:19:25\n",
            "Batch 1,800 of 4,089. Elapsed 0:20:33\n",
            "Batch 1,900 of 4,089. Elapsed 0:21:42\n",
            "Batch 2,000 of 4,089. Elapsed 0:22:50\n",
            "Batch 2,100 of 4,089. Elapsed 0:23:59\n",
            "Batch 2,200 of 4,089. Elapsed 0:25:08\n",
            "Batch 2,300 of 4,089. Elapsed 0:26:16\n",
            "Batch 2,400 of 4,089. Elapsed 0:27:25\n",
            "Batch 2,500 of 4,089. Elapsed 0:28:33\n",
            "Batch 2,600 of 4,089. Elapsed 0:29:42\n",
            "Batch 2,700 of 4,089. Elapsed 0:30:50\n",
            "Batch 2,800 of 4,089. Elapsed 0:31:59\n",
            "Batch 2,900 of 4,089. Elapsed 0:33:07\n",
            "Batch 3,000 of 4,089. Elapsed 0:34:16\n",
            "Batch 3,100 of 4,089. Elapsed 0:35:25\n",
            "Batch 3,200 of 4,089. Elapsed 0:36:33\n",
            "Batch 3,300 of 4,089. Elapsed 0:37:42\n",
            "Batch 3,400 of 4,089. Elapsed 0:38:50\n",
            "Batch 3,500 of 4,089. Elapsed 0:39:59\n",
            "Batch 3,600 of 4,089. Elapsed 0:41:07\n",
            "Batch 3,700 of 4,089. Elapsed 0:42:16\n",
            "Batch 3,800 of 4,089. Elapsed 0:43:25\n",
            "Batch 3,900 of 4,089. Elapsed 0:44:33\n",
            "Batch 4,000 of 4,089. Elapsed 0:45:42\n",
            "\n",
            " Average training loss: 0.04\n",
            " Training epoch took: 0:46:43\n",
            "\n",
            "Running validation...\n",
            " Accuracy: 0.98\n",
            " Validation took: 0:48:23\n",
            "\n",
            "Epoch 3 / 4\n",
            "Training...\n",
            "Batch   100 of 4,089. Elapsed 0:01:08\n",
            "Batch   200 of 4,089. Elapsed 0:02:17\n",
            "Batch   300 of 4,089. Elapsed 0:03:25\n",
            "Batch   400 of 4,089. Elapsed 0:04:34\n",
            "Batch   500 of 4,089. Elapsed 0:05:42\n",
            "Batch   600 of 4,089. Elapsed 0:06:50\n",
            "Batch   700 of 4,089. Elapsed 0:07:59\n",
            "Batch   800 of 4,089. Elapsed 0:09:07\n",
            "Batch   900 of 4,089. Elapsed 0:10:16\n",
            "Batch 1,000 of 4,089. Elapsed 0:11:24\n",
            "Batch 1,100 of 4,089. Elapsed 0:12:32\n",
            "Batch 1,200 of 4,089. Elapsed 0:13:41\n",
            "Batch 1,300 of 4,089. Elapsed 0:14:49\n",
            "Batch 1,400 of 4,089. Elapsed 0:15:57\n",
            "Batch 1,500 of 4,089. Elapsed 0:17:06\n",
            "Batch 1,600 of 4,089. Elapsed 0:18:14\n",
            "Batch 1,700 of 4,089. Elapsed 0:19:23\n",
            "Batch 1,800 of 4,089. Elapsed 0:20:31\n",
            "Batch 1,900 of 4,089. Elapsed 0:21:40\n",
            "Batch 2,000 of 4,089. Elapsed 0:22:48\n",
            "Batch 2,100 of 4,089. Elapsed 0:23:56\n",
            "Batch 2,200 of 4,089. Elapsed 0:25:05\n",
            "Batch 2,300 of 4,089. Elapsed 0:26:13\n",
            "Batch 2,400 of 4,089. Elapsed 0:27:21\n",
            "Batch 2,500 of 4,089. Elapsed 0:28:30\n",
            "Batch 2,600 of 4,089. Elapsed 0:29:38\n",
            "Batch 2,700 of 4,089. Elapsed 0:30:46\n",
            "Batch 2,800 of 4,089. Elapsed 0:31:55\n",
            "Batch 2,900 of 4,089. Elapsed 0:33:03\n",
            "Batch 3,000 of 4,089. Elapsed 0:34:12\n",
            "Batch 3,100 of 4,089. Elapsed 0:35:20\n",
            "Batch 3,200 of 4,089. Elapsed 0:36:29\n",
            "Batch 3,300 of 4,089. Elapsed 0:37:37\n",
            "Batch 3,400 of 4,089. Elapsed 0:38:45\n",
            "Batch 3,500 of 4,089. Elapsed 0:39:54\n",
            "Batch 3,600 of 4,089. Elapsed 0:41:02\n",
            "Batch 3,700 of 4,089. Elapsed 0:42:11\n",
            "Batch 3,800 of 4,089. Elapsed 0:43:19\n",
            "Batch 3,900 of 4,089. Elapsed 0:44:27\n",
            "Batch 4,000 of 4,089. Elapsed 0:45:36\n",
            "\n",
            " Average training loss: 0.02\n",
            " Training epoch took: 0:46:37\n",
            "\n",
            "Running validation...\n",
            " Accuracy: 0.98\n",
            " Validation took: 0:48:17\n",
            "\n",
            "Epoch 4 / 4\n",
            "Training...\n",
            "Batch   100 of 4,089. Elapsed 0:01:08\n",
            "Batch   200 of 4,089. Elapsed 0:02:17\n",
            "Batch   300 of 4,089. Elapsed 0:03:25\n",
            "Batch   400 of 4,089. Elapsed 0:04:33\n",
            "Batch   500 of 4,089. Elapsed 0:05:42\n",
            "Batch   600 of 4,089. Elapsed 0:06:50\n",
            "Batch   700 of 4,089. Elapsed 0:07:58\n",
            "Batch   800 of 4,089. Elapsed 0:09:07\n",
            "Batch   900 of 4,089. Elapsed 0:10:15\n",
            "Batch 1,000 of 4,089. Elapsed 0:11:23\n",
            "Batch 1,100 of 4,089. Elapsed 0:12:31\n",
            "Batch 1,200 of 4,089. Elapsed 0:13:40\n",
            "Batch 1,300 of 4,089. Elapsed 0:14:48\n",
            "Batch 1,400 of 4,089. Elapsed 0:15:56\n",
            "Batch 1,500 of 4,089. Elapsed 0:17:04\n",
            "Batch 1,600 of 4,089. Elapsed 0:18:13\n",
            "Batch 1,700 of 4,089. Elapsed 0:19:21\n",
            "Batch 1,800 of 4,089. Elapsed 0:20:29\n",
            "Batch 1,900 of 4,089. Elapsed 0:21:37\n",
            "Batch 2,000 of 4,089. Elapsed 0:22:46\n",
            "Batch 2,100 of 4,089. Elapsed 0:23:54\n",
            "Batch 2,200 of 4,089. Elapsed 0:25:02\n",
            "Batch 2,300 of 4,089. Elapsed 0:26:10\n",
            "Batch 2,400 of 4,089. Elapsed 0:27:19\n",
            "Batch 2,500 of 4,089. Elapsed 0:28:27\n",
            "Batch 2,600 of 4,089. Elapsed 0:29:35\n",
            "Batch 2,700 of 4,089. Elapsed 0:30:43\n",
            "Batch 2,800 of 4,089. Elapsed 0:31:52\n",
            "Batch 2,900 of 4,089. Elapsed 0:33:00\n",
            "Batch 3,000 of 4,089. Elapsed 0:34:08\n",
            "Batch 3,100 of 4,089. Elapsed 0:35:16\n",
            "Batch 3,200 of 4,089. Elapsed 0:36:25\n",
            "Batch 3,300 of 4,089. Elapsed 0:37:33\n",
            "Batch 3,400 of 4,089. Elapsed 0:38:41\n",
            "Batch 3,500 of 4,089. Elapsed 0:39:50\n",
            "Batch 3,600 of 4,089. Elapsed 0:40:58\n",
            "Batch 3,700 of 4,089. Elapsed 0:42:07\n",
            "Batch 3,800 of 4,089. Elapsed 0:43:15\n",
            "Batch 3,900 of 4,089. Elapsed 0:44:23\n",
            "Batch 4,000 of 4,089. Elapsed 0:45:31\n",
            "\n",
            " Average training loss: 0.01\n",
            " Training epoch took: 0:46:32\n",
            "\n",
            "Running validation...\n",
            " Accuracy: 0.98\n",
            " Validation took: 0:48:13\n",
            "\n",
            "Training complete!\n"
          ],
          "name": "stdout"
        }
      ]
    },
    {
      "cell_type": "code",
      "metadata": {
        "id": "zX0ZP1fGrC9d",
        "colab_type": "code",
        "colab": {
          "base_uri": "https://localhost:8080/",
          "height": 34
        },
        "outputId": "9c13df1a-409d-4ac0-a5b6-c867688a5bfb"
      },
      "source": [
        "print(\" Validation Accuracy = {0:.2f}%\".format((eval_accuracy/nb_eval_steps)*100))"
      ],
      "execution_count": 61,
      "outputs": [
        {
          "output_type": "stream",
          "text": [
            " Validation Accuracy = 98.00%\n"
          ],
          "name": "stdout"
        }
      ]
    },
    {
      "cell_type": "code",
      "metadata": {
        "id": "JbWVSRvtECMB",
        "colab_type": "code",
        "colab": {
          "base_uri": "https://localhost:8080/",
          "height": 427
        },
        "outputId": "e65b44ae-7112-4b00-f314-120638ac3d8f"
      },
      "source": [
        "import matplotlib.pyplot as plt\n",
        "% matplotlib inline\n",
        "\n",
        "import seaborn as sns\n",
        "\n",
        "# Use plot styling from seaborn.\n",
        "sns.set(style='darkgrid')\n",
        "\n",
        "# Increase the plot size and font size.\n",
        "sns.set(font_scale=1.5)\n",
        "plt.rcParams[\"figure.figsize\"] = (12,6)\n",
        "\n",
        "# Plot the learning curve.\n",
        "plt.plot(loss_values, 'b-o')\n",
        "\n",
        "# Label the plot.\n",
        "plt.title(\"Training loss\")\n",
        "plt.xlabel(\"Epoch\")\n",
        "plt.ylabel(\"Loss\")\n",
        "\n",
        "plt.show()"
      ],
      "execution_count": 62,
      "outputs": [
        {
          "output_type": "display_data",
          "data": {
            "image/png": "[encoded data removed]",
            "text/plain": [
              "<Figure size 864x432 with 1 Axes>"
            ]
          },
          "metadata": {
            "tags": []
          }
        }
      ]
    }
  ]
}